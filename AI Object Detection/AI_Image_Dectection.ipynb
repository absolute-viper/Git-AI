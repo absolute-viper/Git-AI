{
  "nbformat": 4,
  "nbformat_minor": 5,
  "metadata": {
    "kernelspec": {
      "display_name": "Python 3",
      "language": "python",
      "name": "python3"
    },
    "language_info": {
      "codemirror_mode": {
        "name": "ipython",
        "version": 3
      },
      "file_extension": ".py",
      "mimetype": "text/x-python",
      "name": "python",
      "nbconvert_exporter": "python",
      "pygments_lexer": "ipython3",
      "version": "3.8.8"
    },
    "colab": {
      "name": "AI_Image_Dectection.ipynb",
      "provenance": [],
      "include_colab_link": true
    }
  },
  "cells": [
    {
      "cell_type": "markdown",
      "metadata": {
        "id": "view-in-github",
        "colab_type": "text"
      },
      "source": [
        "<a href=\"https://colab.research.google.com/github/absolute-viper/Git-AI/blob/main/AI%20Object%20Detection/AI_Image_Dectection.ipynb\" target=\"_parent\"><img src=\"https://colab.research.google.com/assets/colab-badge.svg\" alt=\"Open In Colab\"/></a>"
      ]
    },
    {
      "cell_type": "code",
      "metadata": {
        "scrolled": false,
        "id": "1d6c4fb5"
      },
      "source": [
        "from imageai.Detection import ObjectDetection\n",
        "import os"
      ],
      "id": "1d6c4fb5",
      "execution_count": null,
      "outputs": []
    },
    {
      "cell_type": "code",
      "metadata": {
        "id": "0f03baec"
      },
      "source": [
        "current_directory = os.getcwd()"
      ],
      "id": "0f03baec",
      "execution_count": null,
      "outputs": []
    },
    {
      "cell_type": "code",
      "metadata": {
        "id": "de198d30"
      },
      "source": [
        "detector = ObjectDetection()\n",
        "detector.setModelTypeAsYOLOv3()"
      ],
      "id": "de198d30",
      "execution_count": null,
      "outputs": []
    },
    {
      "cell_type": "code",
      "metadata": {
        "scrolled": false,
        "id": "e533a4f0"
      },
      "source": [
        "detector.setModelPath(os.path.join(current_directory , \"yolo.h5\"))\n",
        "detector.loadModel()"
      ],
      "id": "e533a4f0",
      "execution_count": null,
      "outputs": []
    },
    {
      "cell_type": "code",
      "metadata": {
        "id": "d80e340f",
        "outputId": "003fc8f1-8121-496c-a706-d0cca65f25d2"
      },
      "source": [
        "detections = detector.detectObjectsFromImage(input_image=os.path.join(current_directory, \"Test5.jpg\"), \n",
        "                                             output_image_path=os.path.join(current_directory , \"Test5_detected.jpg\"))\n",
        "\n",
        "for eachObject in detections:\n",
        "    print(eachObject[\"name\"] , \" : \", eachObject[\"percentage_probability\"], \" : \", eachObject[\"box_points\"] )\n",
        "    print(\"--------------------------------\")"
      ],
      "id": "d80e340f",
      "execution_count": null,
      "outputs": [
        {
          "name": "stdout",
          "output_type": "stream",
          "text": [
            "person  :  92.67666935920715  :  [47, 56, 273, 300]\n",
            "--------------------------------\n",
            "person  :  98.40067028999329  :  [432, 82, 537, 307]\n",
            "--------------------------------\n"
          ]
        }
      ]
    }
  ]
}