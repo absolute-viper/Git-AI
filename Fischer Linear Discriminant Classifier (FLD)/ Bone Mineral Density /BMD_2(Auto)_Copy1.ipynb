{
  "nbformat": 4,
  "nbformat_minor": 5,
  "metadata": {
    "kernelspec": {
      "display_name": "Python 3",
      "language": "python",
      "name": "python3"
    },
    "language_info": {
      "codemirror_mode": {
        "name": "ipython",
        "version": 3
      },
      "file_extension": ".py",
      "mimetype": "text/x-python",
      "name": "python",
      "nbconvert_exporter": "python",
      "pygments_lexer": "ipython3",
      "version": "3.8.8"
    },
    "colab": {
      "name": "BMD-2(Auto)-Copy1.ipynb",
      "provenance": [],
      "collapsed_sections": [],
      "include_colab_link": true
    }
  },
  "cells": [
    {
      "cell_type": "markdown",
      "metadata": {
        "id": "view-in-github",
        "colab_type": "text"
      },
      "source": [
        "<a href=\"https://colab.research.google.com/github/absolute-viper/Git-AI/blob/main/Fischer%20Linear%20Discriminant%20Classifier%20(FLD)/%20Bone%20Mineral%20Density%20/BMD_2(Auto)_Copy1.ipynb\" target=\"_parent\"><img src=\"https://colab.research.google.com/assets/colab-badge.svg\" alt=\"Open In Colab\"/></a>"
      ]
    },
    {
      "cell_type": "markdown",
      "metadata": {
        "id": "P-beIjjM2LX7"
      },
      "source": [
        "\n",
        "# **CODE WITH SKLEARN LIBRARY IMPLEMENTATION OF FLD(Code Inbuilt)**\n",
        "Classification Type : Fischer Linear Discriminant Analysis (FLD)\n",
        "\n",
        "DATASET :\"Bone Mineral Density(bmd.csv)\"\n"
      ],
      "id": "P-beIjjM2LX7"
    },
    {
      "cell_type": "markdown",
      "metadata": {
        "id": "Rk3ss-iM2mED"
      },
      "source": [
        "**Importing Basic Libraries:**\n"
      ],
      "id": "Rk3ss-iM2mED"
    },
    {
      "cell_type": "code",
      "metadata": {
        "id": "c914e24e"
      },
      "source": [
        "import pandas as pd\n",
        "import numpy as np\n",
        "from sklearn.preprocessing import LabelEncoder\n",
        "import math\n",
        "from matplotlib import pyplot as plt"
      ],
      "id": "c914e24e",
      "execution_count": 1,
      "outputs": []
    },
    {
      "cell_type": "markdown",
      "metadata": {
        "id": "5q5rNSqI28_q"
      },
      "source": [
        "**Loading Dataset:**\n"
      ],
      "id": "5q5rNSqI28_q"
    },
    {
      "cell_type": "code",
      "metadata": {
        "colab": {
          "base_uri": "https://localhost:8080/"
        },
        "id": "LeIzG46L5j3z",
        "outputId": "1a60240e-5a36-4dfe-d2b6-79f9da0c9bc2"
      },
      "source": [
        "from google.colab import drive\n",
        "drive.mount('/content/gdrive')"
      ],
      "id": "LeIzG46L5j3z",
      "execution_count": 2,
      "outputs": [
        {
          "output_type": "stream",
          "name": "stdout",
          "text": [
            "Mounted at /content/gdrive\n"
          ]
        }
      ]
    },
    {
      "cell_type": "code",
      "metadata": {
        "id": "Fslqwu2O5muq"
      },
      "source": [
        "DatasetBaseFolder = '/content/gdrive/MyDrive/Colab_Notebooks/Datasets/'"
      ],
      "id": "Fslqwu2O5muq",
      "execution_count": 3,
      "outputs": []
    },
    {
      "cell_type": "code",
      "metadata": {
        "id": "985ef14d",
        "colab": {
          "base_uri": "https://localhost:8080/",
          "height": 234
        },
        "outputId": "dbd78570-4f1d-4e86-d0fc-aceb7150019e"
      },
      "source": [
        "df = pd.read_csv(DatasetBaseFolder+\"bmd.csv\", index_col=\"id\")\n",
        "df.head(5)"
      ],
      "id": "985ef14d",
      "execution_count": 5,
      "outputs": [
        {
          "output_type": "execute_result",
          "data": {
            "text/html": [
              "<div>\n",
              "<style scoped>\n",
              "    .dataframe tbody tr th:only-of-type {\n",
              "        vertical-align: middle;\n",
              "    }\n",
              "\n",
              "    .dataframe tbody tr th {\n",
              "        vertical-align: top;\n",
              "    }\n",
              "\n",
              "    .dataframe thead th {\n",
              "        text-align: right;\n",
              "    }\n",
              "</style>\n",
              "<table border=\"1\" class=\"dataframe\">\n",
              "  <thead>\n",
              "    <tr style=\"text-align: right;\">\n",
              "      <th></th>\n",
              "      <th>age</th>\n",
              "      <th>sex</th>\n",
              "      <th>fracture</th>\n",
              "      <th>weight_kg</th>\n",
              "      <th>height_cm</th>\n",
              "      <th>medication</th>\n",
              "      <th>waiting_time</th>\n",
              "      <th>bmd</th>\n",
              "    </tr>\n",
              "    <tr>\n",
              "      <th>id</th>\n",
              "      <th></th>\n",
              "      <th></th>\n",
              "      <th></th>\n",
              "      <th></th>\n",
              "      <th></th>\n",
              "      <th></th>\n",
              "      <th></th>\n",
              "      <th></th>\n",
              "    </tr>\n",
              "  </thead>\n",
              "  <tbody>\n",
              "    <tr>\n",
              "      <th>469</th>\n",
              "      <td>57.052768</td>\n",
              "      <td>F</td>\n",
              "      <td>no fracture</td>\n",
              "      <td>64.0</td>\n",
              "      <td>155.5</td>\n",
              "      <td>Anticonvulsant</td>\n",
              "      <td>18</td>\n",
              "      <td>0.8793</td>\n",
              "    </tr>\n",
              "    <tr>\n",
              "      <th>8724</th>\n",
              "      <td>75.741225</td>\n",
              "      <td>F</td>\n",
              "      <td>no fracture</td>\n",
              "      <td>78.0</td>\n",
              "      <td>162.0</td>\n",
              "      <td>No medication</td>\n",
              "      <td>56</td>\n",
              "      <td>0.7946</td>\n",
              "    </tr>\n",
              "    <tr>\n",
              "      <th>6736</th>\n",
              "      <td>70.778900</td>\n",
              "      <td>M</td>\n",
              "      <td>no fracture</td>\n",
              "      <td>73.0</td>\n",
              "      <td>170.5</td>\n",
              "      <td>No medication</td>\n",
              "      <td>10</td>\n",
              "      <td>0.9067</td>\n",
              "    </tr>\n",
              "    <tr>\n",
              "      <th>24180</th>\n",
              "      <td>78.247175</td>\n",
              "      <td>F</td>\n",
              "      <td>no fracture</td>\n",
              "      <td>60.0</td>\n",
              "      <td>148.0</td>\n",
              "      <td>No medication</td>\n",
              "      <td>14</td>\n",
              "      <td>0.7112</td>\n",
              "    </tr>\n",
              "    <tr>\n",
              "      <th>17072</th>\n",
              "      <td>54.191877</td>\n",
              "      <td>M</td>\n",
              "      <td>no fracture</td>\n",
              "      <td>55.0</td>\n",
              "      <td>161.0</td>\n",
              "      <td>No medication</td>\n",
              "      <td>20</td>\n",
              "      <td>0.7909</td>\n",
              "    </tr>\n",
              "  </tbody>\n",
              "</table>\n",
              "</div>"
            ],
            "text/plain": [
              "             age sex     fracture  ...      medication  waiting_time     bmd\n",
              "id                                 ...                                      \n",
              "469    57.052768   F  no fracture  ...  Anticonvulsant            18  0.8793\n",
              "8724   75.741225   F  no fracture  ...   No medication            56  0.7946\n",
              "6736   70.778900   M  no fracture  ...   No medication            10  0.9067\n",
              "24180  78.247175   F  no fracture  ...   No medication            14  0.7112\n",
              "17072  54.191877   M  no fracture  ...   No medication            20  0.7909\n",
              "\n",
              "[5 rows x 8 columns]"
            ]
          },
          "metadata": {},
          "execution_count": 5
        }
      ]
    },
    {
      "cell_type": "markdown",
      "metadata": {
        "id": "md8rDPdI3UED"
      },
      "source": [
        "**Cleaning Data:**"
      ],
      "id": "md8rDPdI3UED"
    },
    {
      "cell_type": "code",
      "metadata": {
        "id": "3d126e95",
        "colab": {
          "base_uri": "https://localhost:8080/"
        },
        "outputId": "8918f958-ae19-4e32-bca4-766ef72ecaab"
      },
      "source": [
        "#########################\n",
        "# Allocating data Columns to variables\n",
        "#########################\n",
        "X = df.iloc[:,[0,3,4,6,7]]\n",
        "y = df['fracture']\n",
        "\n",
        "#########################\n",
        "# finding unique values in the Dataset\n",
        "#########################\n",
        "total_classes = y.nunique()\n",
        "print(\"Number of unique values in dataset: \",total_classes)"
      ],
      "id": "3d126e95",
      "execution_count": 7,
      "outputs": [
        {
          "output_type": "stream",
          "name": "stdout",
          "text": [
            "Number of unique values in dataset:  2\n"
          ]
        }
      ]
    },
    {
      "cell_type": "markdown",
      "metadata": {
        "id": "8BbAjYdz3lYa"
      },
      "source": [
        "**Implementing Inbuilt SkLearn Library for LDA Analysis**"
      ],
      "id": "8BbAjYdz3lYa"
    },
    {
      "cell_type": "code",
      "metadata": {
        "scrolled": true,
        "id": "6cd47509"
      },
      "source": [
        "#########################\n",
        "# Using the Inbuild SkLearn Preprocessing Directory\n",
        "# for performing Linear Discriminant Analysis\n",
        "#########################\n",
        "from sklearn.discriminant_analysis import LinearDiscriminantAnalysis as lda"
      ],
      "id": "6cd47509",
      "execution_count": 8,
      "outputs": []
    },
    {
      "cell_type": "code",
      "metadata": {
        "id": "0a2c541e"
      },
      "source": [
        "#########################\n",
        "# Splitting dataset for training/validation purposes. \n",
        "# Taking 30% as validation set of the total dataset\n",
        "# for performing Linear Discriminant Analysis\n",
        "#########################\n",
        "from sklearn.model_selection import train_test_split\n",
        "\n",
        "X_train, X_test, y_train, y_test = train_test_split(X, y, test_size=0.3, random_state=0)"
      ],
      "id": "0a2c541e",
      "execution_count": 21,
      "outputs": []
    },
    {
      "cell_type": "markdown",
      "metadata": {
        "id": "X8CcKJnA3znz"
      },
      "source": [
        "**Forming Vector Matrices**"
      ],
      "id": "X8CcKJnA3znz"
    },
    {
      "cell_type": "code",
      "metadata": {
        "id": "b114ece5"
      },
      "source": [
        "from sklearn.preprocessing import StandardScaler\n",
        "\n",
        "sc = StandardScaler()\n",
        "X_train = sc.fit_transform(X_train)\n",
        "X_test = sc.transform(X_test)"
      ],
      "id": "b114ece5",
      "execution_count": 22,
      "outputs": []
    },
    {
      "cell_type": "markdown",
      "metadata": {
        "id": "ZgVvfJ3E4B9q"
      },
      "source": [
        "**Transforming Data using LDA libraries**"
      ],
      "id": "ZgVvfJ3E4B9q"
    },
    {
      "cell_type": "code",
      "metadata": {
        "id": "f1ea5924"
      },
      "source": [
        "#########################\n",
        "# Using Random Forest Classifier to perform prediction on the data\n",
        "#########################\n",
        "from sklearn.ensemble import RandomForestClassifier\n",
        "\n",
        "classifier = RandomForestClassifier(max_depth=2, random_state=0)\n",
        "\n",
        "classifier.fit(X_train, y_train)\n",
        "y_pred = classifier.predict(X_test)"
      ],
      "id": "f1ea5924",
      "execution_count": 23,
      "outputs": []
    },
    {
      "cell_type": "code",
      "metadata": {
        "id": "743313dc"
      },
      "source": [
        "from sklearn.discriminant_analysis import LinearDiscriminantAnalysis as LDA\n",
        "\n",
        "lda = LDA(n_components=1)\n",
        "X_train = lda.fit_transform(X_train, y_train)\n",
        "X_test = lda.transform(X_test)"
      ],
      "id": "743313dc",
      "execution_count": 24,
      "outputs": []
    },
    {
      "cell_type": "markdown",
      "metadata": {
        "id": "mPM7WfHm4YUr"
      },
      "source": [
        "**Finding Accuracy of the Model on the Dataset**"
      ],
      "id": "mPM7WfHm4YUr"
    },
    {
      "cell_type": "code",
      "metadata": {
        "id": "4dab1004",
        "colab": {
          "base_uri": "https://localhost:8080/"
        },
        "outputId": "1470444f-2dfd-4977-b6b0-0880aded637e"
      },
      "source": [
        "#########################\n",
        "# Confusion Matrix & Accuracy of the model\n",
        "#########################\n",
        "from sklearn.metrics import confusion_matrix\n",
        "from sklearn.metrics import accuracy_score\n",
        "\n",
        "cm = confusion_matrix(y_test, y_pred)\n",
        "print(cm)\n",
        "print('Accuracy: ' + str(accuracy_score(y_test, y_pred)))"
      ],
      "id": "4dab1004",
      "execution_count": 36,
      "outputs": [
        {
          "output_type": "stream",
          "name": "stdout",
          "text": [
            "[[12  4]\n",
            " [ 4 31]]\n",
            "Accuracy: 0.8431372549019608\n"
          ]
        }
      ]
    },
    {
      "cell_type": "code",
      "metadata": {
        "id": "73778e41"
      },
      "source": [
        ""
      ],
      "id": "73778e41",
      "execution_count": null,
      "outputs": []
    }
  ]
}