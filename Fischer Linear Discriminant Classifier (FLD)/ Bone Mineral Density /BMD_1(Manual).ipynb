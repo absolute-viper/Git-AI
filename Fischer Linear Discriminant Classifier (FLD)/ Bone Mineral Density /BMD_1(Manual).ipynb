{
  "nbformat": 4,
  "nbformat_minor": 5,
  "metadata": {
    "kernelspec": {
      "display_name": "Python 3",
      "language": "python",
      "name": "python3"
    },
    "language_info": {
      "codemirror_mode": {
        "name": "ipython",
        "version": 3
      },
      "file_extension": ".py",
      "mimetype": "text/x-python",
      "name": "python",
      "nbconvert_exporter": "python",
      "pygments_lexer": "ipython3",
      "version": "3.8.8"
    },
    "colab": {
      "name": "BMD-1(Manual).ipynb",
      "provenance": [],
      "collapsed_sections": [],
      "include_colab_link": true
    }
  },
  "cells": [
    {
      "cell_type": "markdown",
      "metadata": {
        "id": "view-in-github",
        "colab_type": "text"
      },
      "source": [
        "<a href=\"https://colab.research.google.com/github/absolute-viper/Git-AI/blob/main/Fischer%20Linear%20Discriminant%20Classifier%20(FLD)/%20Bone%20Mineral%20Density%20/BMD_1(Manual).ipynb\" target=\"_parent\"><img src=\"https://colab.research.google.com/assets/colab-badge.svg\" alt=\"Open In Colab\"/></a>"
      ]
    },
    {
      "cell_type": "markdown",
      "metadata": {
        "id": "OKo2UkuV_BwF"
      },
      "source": [
        "# **CODE WITH MANUAL IMPLEMENTATION OF FLD(Code From Scratch)**\n",
        "Classification Type : Fischer Linear Discriminant Analysis (FLD)\n",
        "\n",
        "DATASET :\"Bone Mineral Density(bmd.csv)\"\n"
      ],
      "id": "OKo2UkuV_BwF"
    },
    {
      "cell_type": "markdown",
      "metadata": {
        "id": "Rk3ss-iM2mED"
      },
      "source": [
        "**Importing Basic Libraries:**\n"
      ],
      "id": "Rk3ss-iM2mED"
    },
    {
      "cell_type": "code",
      "metadata": {
        "id": "c914e24e"
      },
      "source": [
        "import pandas as pd\n",
        "import numpy as np\n",
        "from sklearn.preprocessing import LabelEncoder\n",
        "import math"
      ],
      "id": "c914e24e",
      "execution_count": 1,
      "outputs": []
    },
    {
      "cell_type": "markdown",
      "metadata": {
        "id": "5q5rNSqI28_q"
      },
      "source": [
        "**Loading Dataset:**\n"
      ],
      "id": "5q5rNSqI28_q"
    },
    {
      "cell_type": "code",
      "metadata": {
        "colab": {
          "base_uri": "https://localhost:8080/"
        },
        "id": "4tXHKPqE_V3E",
        "outputId": "fdee469f-e5ac-45ad-8fb4-9debc431d072"
      },
      "source": [
        "from google.colab import drive\n",
        "drive.mount('/content/gdrive')"
      ],
      "id": "4tXHKPqE_V3E",
      "execution_count": 2,
      "outputs": [
        {
          "output_type": "stream",
          "name": "stdout",
          "text": [
            "Mounted at /content/gdrive\n"
          ]
        }
      ]
    },
    {
      "cell_type": "code",
      "metadata": {
        "id": "qnt1TevQ_aJa"
      },
      "source": [
        "DatasetBaseFolder = '/content/gdrive/MyDrive/Colab_Notebooks/Datasets/'"
      ],
      "id": "qnt1TevQ_aJa",
      "execution_count": 3,
      "outputs": []
    },
    {
      "cell_type": "code",
      "metadata": {
        "colab": {
          "base_uri": "https://localhost:8080/",
          "height": 234
        },
        "id": "N_J5tSyi_ekC",
        "outputId": "30447f1e-ef25-4a42-bf6c-97d98f0819c8"
      },
      "source": [
        "df = pd.read_csv(DatasetBaseFolder+\"bmd.csv\", index_col=\"id\")\n",
        "df.head(5)"
      ],
      "id": "N_J5tSyi_ekC",
      "execution_count": 4,
      "outputs": [
        {
          "output_type": "execute_result",
          "data": {
            "text/html": [
              "<div>\n",
              "<style scoped>\n",
              "    .dataframe tbody tr th:only-of-type {\n",
              "        vertical-align: middle;\n",
              "    }\n",
              "\n",
              "    .dataframe tbody tr th {\n",
              "        vertical-align: top;\n",
              "    }\n",
              "\n",
              "    .dataframe thead th {\n",
              "        text-align: right;\n",
              "    }\n",
              "</style>\n",
              "<table border=\"1\" class=\"dataframe\">\n",
              "  <thead>\n",
              "    <tr style=\"text-align: right;\">\n",
              "      <th></th>\n",
              "      <th>age</th>\n",
              "      <th>sex</th>\n",
              "      <th>fracture</th>\n",
              "      <th>weight_kg</th>\n",
              "      <th>height_cm</th>\n",
              "      <th>medication</th>\n",
              "      <th>waiting_time</th>\n",
              "      <th>bmd</th>\n",
              "    </tr>\n",
              "    <tr>\n",
              "      <th>id</th>\n",
              "      <th></th>\n",
              "      <th></th>\n",
              "      <th></th>\n",
              "      <th></th>\n",
              "      <th></th>\n",
              "      <th></th>\n",
              "      <th></th>\n",
              "      <th></th>\n",
              "    </tr>\n",
              "  </thead>\n",
              "  <tbody>\n",
              "    <tr>\n",
              "      <th>469</th>\n",
              "      <td>57.052768</td>\n",
              "      <td>F</td>\n",
              "      <td>no fracture</td>\n",
              "      <td>64.0</td>\n",
              "      <td>155.5</td>\n",
              "      <td>Anticonvulsant</td>\n",
              "      <td>18</td>\n",
              "      <td>0.8793</td>\n",
              "    </tr>\n",
              "    <tr>\n",
              "      <th>8724</th>\n",
              "      <td>75.741225</td>\n",
              "      <td>F</td>\n",
              "      <td>no fracture</td>\n",
              "      <td>78.0</td>\n",
              "      <td>162.0</td>\n",
              "      <td>No medication</td>\n",
              "      <td>56</td>\n",
              "      <td>0.7946</td>\n",
              "    </tr>\n",
              "    <tr>\n",
              "      <th>6736</th>\n",
              "      <td>70.778900</td>\n",
              "      <td>M</td>\n",
              "      <td>no fracture</td>\n",
              "      <td>73.0</td>\n",
              "      <td>170.5</td>\n",
              "      <td>No medication</td>\n",
              "      <td>10</td>\n",
              "      <td>0.9067</td>\n",
              "    </tr>\n",
              "    <tr>\n",
              "      <th>24180</th>\n",
              "      <td>78.247175</td>\n",
              "      <td>F</td>\n",
              "      <td>no fracture</td>\n",
              "      <td>60.0</td>\n",
              "      <td>148.0</td>\n",
              "      <td>No medication</td>\n",
              "      <td>14</td>\n",
              "      <td>0.7112</td>\n",
              "    </tr>\n",
              "    <tr>\n",
              "      <th>17072</th>\n",
              "      <td>54.191877</td>\n",
              "      <td>M</td>\n",
              "      <td>no fracture</td>\n",
              "      <td>55.0</td>\n",
              "      <td>161.0</td>\n",
              "      <td>No medication</td>\n",
              "      <td>20</td>\n",
              "      <td>0.7909</td>\n",
              "    </tr>\n",
              "  </tbody>\n",
              "</table>\n",
              "</div>"
            ],
            "text/plain": [
              "             age sex     fracture  ...      medication  waiting_time     bmd\n",
              "id                                 ...                                      \n",
              "469    57.052768   F  no fracture  ...  Anticonvulsant            18  0.8793\n",
              "8724   75.741225   F  no fracture  ...   No medication            56  0.7946\n",
              "6736   70.778900   M  no fracture  ...   No medication            10  0.9067\n",
              "24180  78.247175   F  no fracture  ...   No medication            14  0.7112\n",
              "17072  54.191877   M  no fracture  ...   No medication            20  0.7909\n",
              "\n",
              "[5 rows x 8 columns]"
            ]
          },
          "metadata": {},
          "execution_count": 4
        }
      ]
    },
    {
      "cell_type": "markdown",
      "metadata": {
        "id": "md8rDPdI3UED"
      },
      "source": [
        "**Cleaning Data:**"
      ],
      "id": "md8rDPdI3UED"
    },
    {
      "cell_type": "code",
      "metadata": {
        "colab": {
          "base_uri": "https://localhost:8080/"
        },
        "id": "985ef14d",
        "outputId": "458f983f-33d8-4a14-bff4-b21c65779866"
      },
      "source": [
        "#########################\n",
        "# Allocating data Columns to variables\n",
        "#########################\n",
        "from sklearn.preprocessing import LabelEncoder\n",
        "\n",
        "X = df.iloc[:,[0,3,4,6,7]].values\n",
        "y = df['fracture'].values\n",
        "\n",
        "#########################\n",
        "# Assigning Numeric Values to String Data\n",
        "#########################\n",
        "enc = LabelEncoder()\n",
        "label_encoder = enc.fit(y)\n",
        "y = label_encoder.transform(y) + 1\n",
        "\n",
        "label_dict = {1: 'no fracture', 2: 'fracture'}\n",
        "y"
      ],
      "id": "985ef14d",
      "execution_count": 5,
      "outputs": [
        {
          "output_type": "execute_result",
          "data": {
            "text/plain": [
              "array([2, 2, 2, 2, 2, 2, 2, 2, 2, 2, 2, 2, 2, 2, 2, 2, 2, 2, 2, 2, 2, 2,\n",
              "       2, 2, 2, 2, 2, 2, 2, 2, 2, 2, 2, 2, 2, 2, 2, 2, 2, 2, 2, 2, 2, 2,\n",
              "       2, 2, 2, 2, 2, 2, 2, 2, 2, 2, 2, 2, 2, 2, 2, 2, 2, 2, 2, 2, 2, 2,\n",
              "       2, 2, 2, 2, 2, 2, 2, 2, 2, 2, 2, 2, 2, 2, 2, 2, 2, 2, 2, 2, 2, 2,\n",
              "       2, 2, 2, 2, 2, 2, 2, 2, 2, 2, 2, 2, 2, 2, 2, 2, 2, 2, 2, 2, 2, 2,\n",
              "       2, 2, 2, 2, 2, 2, 2, 2, 2, 1, 1, 1, 1, 1, 1, 1, 1, 1, 1, 1, 1, 1,\n",
              "       1, 1, 1, 1, 1, 1, 1, 1, 1, 1, 1, 1, 1, 1, 1, 1, 1, 1, 1, 1, 1, 1,\n",
              "       1, 1, 1, 1, 1, 1, 1, 1, 1, 1, 1, 1, 1, 1, 1])"
            ]
          },
          "metadata": {},
          "execution_count": 5
        }
      ]
    },
    {
      "cell_type": "code",
      "metadata": {
        "id": "6ff2f924"
      },
      "source": [
        "#########################\n",
        "# Creating Dictionary for Histograms\n",
        "#########################\n",
        "feature_dict = {i:label for i,label in zip(\n",
        "                range(5),\n",
        "                  ('Age',\n",
        "                  'Weight in Kg',\n",
        "                  'Height in cm',\n",
        "                  'Waiting Time',\n",
        "                  'Bmd'))}"
      ],
      "id": "6ff2f924",
      "execution_count": 6,
      "outputs": []
    },
    {
      "cell_type": "code",
      "metadata": {
        "id": "1380bdfd"
      },
      "source": [
        "%matplotlib inline"
      ],
      "id": "1380bdfd",
      "execution_count": 7,
      "outputs": []
    },
    {
      "cell_type": "markdown",
      "metadata": {
        "id": "sERnRR5eBhVZ"
      },
      "source": [
        "**Plotting Histograms:**"
      ],
      "id": "sERnRR5eBhVZ"
    },
    {
      "cell_type": "code",
      "metadata": {
        "colab": {
          "base_uri": "https://localhost:8080/",
          "height": 441
        },
        "id": "91663715",
        "outputId": "c39b1cdc-6756-42b2-f506-5c6800ebc085"
      },
      "source": [
        "from matplotlib import pyplot as plt\n",
        "import numpy as np\n",
        "import math\n",
        "\n",
        "fig, axes = plt.subplots(nrows=2, ncols=2, figsize=(12,6))\n",
        "\n",
        "for ax,cnt in zip(axes.ravel(), range(5)):  \n",
        "\n",
        "    # set bin sizes\n",
        "    min_b = math.floor(np.min(X[:,cnt]))\n",
        "    max_b = math.ceil(np.max(X[:,cnt]))\n",
        "    bins = np.linspace(min_b, max_b, 25)\n",
        "\n",
        "    # plottling the histograms\n",
        "    for lab,col in zip(range(1,3), ('blue', 'red')):\n",
        "        ax.hist(X[y==lab, cnt],color=col, label='class %s' %label_dict[lab],bins=bins, alpha=0.5,)\n",
        "    ylims = ax.get_ylim()\n",
        "\n",
        "    # plot annotation\n",
        "    leg = ax.legend(loc='upper right', fancybox=True, fontsize=8)\n",
        "    leg.get_frame().set_alpha(0.5)\n",
        "    ax.set_ylim([0, max(ylims)+2])\n",
        "    ax.set_xlabel(feature_dict[cnt])\n",
        "    ax.set_title('BMD Histogram #%s' %str(cnt+1))\n",
        "\n",
        "axes[0][0].set_ylabel('count')\n",
        "axes[1][0].set_ylabel('count')\n",
        "\n",
        "fig.tight_layout()       \n",
        "\n",
        "plt.show()"
      ],
      "id": "91663715",
      "execution_count": 10,
      "outputs": [
        {
          "output_type": "display_data",
          "data": {
            "image/png": "[encoded data removed]",
            "text/plain": [
              "<Figure size 864x432 with 4 Axes>"
            ]
          },
          "metadata": {
            "needs_background": "light"
          }
        }
      ]
    },
    {
      "cell_type": "markdown",
      "metadata": {
        "id": "cbHUzRBVBrrZ"
      },
      "source": [
        "**Forming Vectors:**"
      ],
      "id": "cbHUzRBVBrrZ"
    },
    {
      "cell_type": "code",
      "metadata": {
        "colab": {
          "base_uri": "https://localhost:8080/"
        },
        "id": "be51d152",
        "outputId": "40a47e38-2244-42a4-ac2d-683add9834a4"
      },
      "source": [
        "np.set_printoptions(precision=4)\n",
        "\n",
        "mean_vectors = []\n",
        "for cl in range(1,3):\n",
        "    mean_vectors.append(np.mean(X[y==cl], axis=0))\n",
        "    print('Mean Vector class %s: %s\\n' %(cl, mean_vectors[cl-1]))"
      ],
      "id": "be51d152",
      "execution_count": 9,
      "outputs": [
        {
          "output_type": "stream",
          "name": "stdout",
          "text": [
            "Mean Vector class 1: [ 69.7713  58.41   159.29    23.3      0.6233]\n",
            "\n",
            "Mean Vector class 2: [ 61.0518  67.2941 160.6597  18.2437   0.8502]\n",
            "\n"
          ]
        }
      ]
    },
    {
      "cell_type": "markdown",
      "metadata": {
        "id": "XM8qHmedBz65"
      },
      "source": [
        "**Forming Matrix from Vectors:**"
      ],
      "id": "XM8qHmedBz65"
    },
    {
      "cell_type": "code",
      "metadata": {
        "colab": {
          "base_uri": "https://localhost:8080/"
        },
        "id": "0446da63",
        "outputId": "0ed93547-b065-4173-d041-a258b28fe9da"
      },
      "source": [
        "S_W = np.zeros((5,5))\n",
        "for cl,mv in zip(range(1,5), mean_vectors):\n",
        "    class_sc_mat = np.zeros((5,5))                  # scatter matrix for every class\n",
        "    for row in X[y == cl]:\n",
        "        row, mv = row.reshape(5,1), mv.reshape(5,1) # make column vectors\n",
        "        class_sc_mat += (row-mv).dot((row-mv).T)\n",
        "    S_W += class_sc_mat                             # sum class scatter matrices\n",
        "print('within-class Scatter Matrix:\\n', S_W)"
      ],
      "id": "0446da63",
      "execution_count": 11,
      "outputs": [
        {
          "output_type": "stream",
          "name": "stdout",
          "text": [
            "within-class Scatter Matrix:\n",
            " [[ 2.2976e+04  4.9711e+02 -3.1226e+03 -3.2018e+02 -3.6319e+01]\n",
            " [ 4.9711e+02  1.9583e+04  5.2240e+03  1.5182e+02  1.0847e+02]\n",
            " [-3.1226e+03  5.2240e+03  1.0494e+04  4.3902e+02  6.1018e+01]\n",
            " [-3.2018e+02  1.5182e+02  4.3902e+02  4.1042e+04 -4.4505e+01]\n",
            " [-3.6319e+01  1.0847e+02  6.1018e+01 -4.4505e+01  2.8458e+00]]\n"
          ]
        }
      ]
    },
    {
      "cell_type": "markdown",
      "metadata": {
        "id": "_PPt4f42B_F7"
      },
      "source": [
        "**Mean Calculations and Forming Scatter Matrix:**"
      ],
      "id": "_PPt4f42B_F7"
    },
    {
      "cell_type": "code",
      "metadata": {
        "colab": {
          "base_uri": "https://localhost:8080/"
        },
        "id": "072fff03",
        "outputId": "6cd9f6e7-672d-47c8-babb-81bd8c00ad8b"
      },
      "source": [
        "overall_mean = np.mean(X, axis=0)\n",
        "\n",
        "S_B = np.zeros((5,5))\n",
        "for i,mean_vec in enumerate(mean_vectors):  \n",
        "    n = X[y==i+1,:].shape[0]\n",
        "    mean_vec = mean_vec.reshape(5,1) # make column vector\n",
        "    overall_mean = overall_mean.reshape(5,1) # make column vector\n",
        "    S_B += n * (mean_vec - overall_mean).dot((mean_vec - overall_mean).T)\n",
        "\n",
        "print('between-class Scatter Matrix:\\n', S_B)"
      ],
      "id": "072fff03",
      "execution_count": 12,
      "outputs": [
        {
          "output_type": "stream",
          "name": "stdout",
          "text": [
            "between-class Scatter Matrix:\n",
            " [[ 2.6768e+03 -2.7273e+03 -4.2047e+02  1.5522e+03 -6.9667e+01]\n",
            " [-2.7273e+03  2.7788e+03  4.2841e+02 -1.5815e+03  7.0982e+01]\n",
            " [-4.2047e+02  4.2841e+02  6.6048e+01 -2.4382e+02  1.0943e+01]\n",
            " [ 1.5522e+03 -1.5815e+03 -2.4382e+02  9.0011e+02 -4.0399e+01]\n",
            " [-6.9667e+01  7.0982e+01  1.0943e+01 -4.0399e+01  1.8132e+00]]\n"
          ]
        }
      ]
    },
    {
      "cell_type": "markdown",
      "metadata": {
        "id": "Jk8j7-hPCJw1"
      },
      "source": [
        "**Calculating Eigenvalues:**"
      ],
      "id": "Jk8j7-hPCJw1"
    },
    {
      "cell_type": "code",
      "metadata": {
        "colab": {
          "base_uri": "https://localhost:8080/"
        },
        "id": "215a307a",
        "outputId": "172f3489-1023-40f8-f6ea-0db258a06a19"
      },
      "source": [
        "eig_vals, eig_vecs = np.linalg.eig(np.linalg.inv(S_W).dot(S_B))\n",
        "\n",
        "for i in range(len(eig_vals)):\n",
        "    eigvec_sc = eig_vecs[:,i].reshape(5,1)   \n",
        "    print('\\nEigenvector {}: \\n{}'.format(i+1, eigvec_sc.real))\n",
        "    print('Eigenvalue {:}: {:.2e}'.format(i+1, eig_vals[i].real))"
      ],
      "id": "215a307a",
      "execution_count": 13,
      "outputs": [
        {
          "output_type": "stream",
          "name": "stdout",
          "text": [
            "\n",
            "Eigenvector 1: \n",
            "[[-2.7228e-02]\n",
            " [-1.9234e-03]\n",
            " [ 6.3324e-03]\n",
            " [ 4.2539e-04]\n",
            " [-9.9961e-01]]\n",
            "Eigenvalue 1: 1.11e-16\n",
            "\n",
            "Eigenvector 2: \n",
            "[[ 4.0681e-03]\n",
            " [-1.9241e-03]\n",
            " [ 6.3347e-03]\n",
            " [ 4.2554e-04]\n",
            " [-9.9997e-01]]\n",
            "Eigenvalue 2: 7.69e-01\n",
            "\n",
            "Eigenvector 3: \n",
            "[[ 5.1842e-03]\n",
            " [-1.7849e-02]\n",
            " [-1.6013e-02]\n",
            " [ 2.2868e-04]\n",
            " [ 9.9970e-01]]\n",
            "Eigenvalue 3: -1.13e-17\n",
            "\n",
            "Eigenvector 4: \n",
            "[[-0.0137]\n",
            " [ 0.0226]\n",
            " [-0.0028]\n",
            " [ 0.0178]\n",
            " [-0.9995]]\n",
            "Eigenvalue 4: 4.24e-18\n",
            "\n",
            "Eigenvector 5: \n",
            "[[-0.0088]\n",
            " [ 0.0214]\n",
            " [ 0.0383]\n",
            " [ 0.0183]\n",
            " [-0.9988]]\n",
            "Eigenvalue 5: -1.26e-18\n"
          ]
        }
      ]
    },
    {
      "cell_type": "code",
      "metadata": {
        "colab": {
          "base_uri": "https://localhost:8080/"
        },
        "id": "1536911c",
        "outputId": "952032c0-c394-496c-d326-8de4f4b276d1"
      },
      "source": [
        "#########################\n",
        "# Creating Assertion for array\n",
        "#########################\n",
        "for i in range(len(eig_vals)):\n",
        "    eigv = eig_vecs[:,i].reshape(5,1)\n",
        "    np.testing.assert_array_almost_equal(np.linalg.inv(S_W).dot(S_B).dot(eigv),\n",
        "                                         eig_vals[i] * eigv,\n",
        "                                         decimal=6, err_msg='', verbose=True)\n",
        "print('ok')"
      ],
      "id": "1536911c",
      "execution_count": 14,
      "outputs": [
        {
          "output_type": "stream",
          "name": "stdout",
          "text": [
            "ok\n"
          ]
        }
      ]
    },
    {
      "cell_type": "code",
      "metadata": {
        "colab": {
          "base_uri": "https://localhost:8080/"
        },
        "id": "46e68c89",
        "outputId": "61f3ad14-a185-4ed5-8603-604ed7bfc884"
      },
      "source": [
        "# Make a list of (eigenvalue, eigenvector) tuples\n",
        "eig_pairs = [(np.abs(eig_vals[i]), eig_vecs[:,i]) for i in range(len(eig_vals))]\n",
        "\n",
        "# Sort the (eigenvalue, eigenvector) tuples from high to low\n",
        "eig_pairs = sorted(eig_pairs, key=lambda k: k[0], reverse=True)\n",
        "\n",
        "# Visually confirm that the list is correctly sorted by decreasing eigenvalues\n",
        "\n",
        "print('Eigenvalues in decreasing order:\\n')\n",
        "for i in eig_pairs:\n",
        "    print(i[0])"
      ],
      "id": "46e68c89",
      "execution_count": 15,
      "outputs": [
        {
          "output_type": "stream",
          "name": "stdout",
          "text": [
            "Eigenvalues in decreasing order:\n",
            "\n",
            "0.769431790252819\n",
            "1.1102230246251565e-16\n",
            "1.1264393944290449e-17\n",
            "4.239536767630296e-18\n",
            "1.262195182698763e-18\n"
          ]
        }
      ]
    },
    {
      "cell_type": "markdown",
      "metadata": {
        "id": "W8Ii_ajeCtkq"
      },
      "source": [
        "**Calculating Variance:**"
      ],
      "id": "W8Ii_ajeCtkq"
    },
    {
      "cell_type": "code",
      "metadata": {
        "colab": {
          "base_uri": "https://localhost:8080/"
        },
        "id": "6100bc01",
        "outputId": "ac8fa26b-de83-4f87-80b4-180c9b5991c3"
      },
      "source": [
        "print('Variance explained:\\n')\n",
        "eigv_sum = sum(eig_vals)\n",
        "for i,j in enumerate(eig_pairs):\n",
        "    print('eigenvalue {0:}: {1:.2%}'.format(i+1, (j[0]/eigv_sum).real))"
      ],
      "id": "6100bc01",
      "execution_count": 16,
      "outputs": [
        {
          "output_type": "stream",
          "name": "stdout",
          "text": [
            "Variance explained:\n",
            "\n",
            "eigenvalue 1: 100.00%\n",
            "eigenvalue 2: 0.00%\n",
            "eigenvalue 3: 0.00%\n",
            "eigenvalue 4: 0.00%\n",
            "eigenvalue 5: 0.00%\n"
          ]
        }
      ]
    },
    {
      "cell_type": "code",
      "metadata": {
        "colab": {
          "base_uri": "https://localhost:8080/"
        },
        "id": "6a9196b8",
        "outputId": "f730fb83-c41b-42fc-9110-867f29fec6fe"
      },
      "source": [
        "W = np.hstack((eig_pairs[0][1].reshape(5,1), eig_pairs[1][1].reshape(5,1)))\n",
        "print('Matrix W:\\n', W.real)"
      ],
      "id": "6a9196b8",
      "execution_count": 17,
      "outputs": [
        {
          "output_type": "stream",
          "name": "stdout",
          "text": [
            "Matrix W:\n",
            " [[ 4.0681e-03 -2.7228e-02]\n",
            " [-1.9241e-03 -1.9234e-03]\n",
            " [ 6.3347e-03  6.3324e-03]\n",
            " [ 4.2554e-04  4.2539e-04]\n",
            " [-9.9997e-01 -9.9961e-01]]\n"
          ]
        }
      ]
    },
    {
      "cell_type": "code",
      "metadata": {
        "id": "3f22ab4b"
      },
      "source": [
        "X_lda = X.dot(W)\n",
        "assert X_lda.shape == (169,2), \"The matrix is not 150x2 dimensional.\""
      ],
      "id": "3f22ab4b",
      "execution_count": 18,
      "outputs": []
    },
    {
      "cell_type": "markdown",
      "metadata": {
        "id": "WeLmOslBC-JQ"
      },
      "source": [
        "**Plotting Data:**"
      ],
      "id": "WeLmOslBC-JQ"
    },
    {
      "cell_type": "code",
      "metadata": {
        "colab": {
          "base_uri": "https://localhost:8080/",
          "height": 295
        },
        "id": "154a4fa4",
        "outputId": "41d98b02-a61a-482c-b26f-3c16605f4d93"
      },
      "source": [
        "#########################\n",
        "# Scatter Ploting the Data\n",
        "#########################\n",
        "from matplotlib import pyplot as plt\n",
        "\n",
        "def plot_step_lda():\n",
        "\n",
        "    ax = plt.subplot(111)\n",
        "    for label,marker,color in zip(\n",
        "        range(1,3),('^', 's'),('blue', 'red')):\n",
        "\n",
        "        plt.scatter(x=X_lda[:,0].real[y == label],\n",
        "                y=X_lda[:,0].real[y == label],\n",
        "                marker=marker,\n",
        "                color=color,\n",
        "                alpha=0.5,\n",
        "                label=label_dict[label]\n",
        "                )\n",
        "\n",
        "    plt.xlabel('LD1')\n",
        "    plt.ylabel('LD2')\n",
        "\n",
        "    leg = plt.legend(loc='upper right', fancybox=True)\n",
        "    leg.get_frame().set_alpha(0.5)\n",
        "    plt.title('LDA: Iris projection onto the first 2 linear discriminants')\n",
        "\n",
        "    # hide axis ticks\n",
        "    plt.tick_params(axis=\"both\", which=\"both\", bottom=\"off\", top=\"off\",  \n",
        "            labelbottom=\"on\", left=\"off\", right=\"off\", labelleft=\"on\")\n",
        "\n",
        "    # remove axis spines\n",
        "    ax.spines[\"top\"].set_visible(False)  \n",
        "    ax.spines[\"right\"].set_visible(False)\n",
        "    ax.spines[\"bottom\"].set_visible(False)\n",
        "    ax.spines[\"left\"].set_visible(False)    \n",
        "\n",
        "    plt.grid()\n",
        "    plt.tight_layout\n",
        "    plt.show()\n",
        "\n",
        "plot_step_lda()"
      ],
      "id": "154a4fa4",
      "execution_count": 19,
      "outputs": [
        {
          "output_type": "display_data",
          "data": {
            "image/png": "[encoded data removed]",
            "text/plain": [
              "<Figure size 432x288 with 1 Axes>"
            ]
          },
          "metadata": {
            "needs_background": "light"
          }
        }
      ]
    },
    {
      "cell_type": "code",
      "metadata": {
        "id": "5f350561"
      },
      "source": [
        ""
      ],
      "id": "5f350561",
      "execution_count": null,
      "outputs": []
    }
  ]
}