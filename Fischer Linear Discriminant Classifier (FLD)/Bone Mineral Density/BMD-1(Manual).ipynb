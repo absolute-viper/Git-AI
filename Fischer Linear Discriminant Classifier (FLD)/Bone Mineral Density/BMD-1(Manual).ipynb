{
 "cells": [
  {
   "cell_type": "code",
   "execution_count": 1,
   "id": "005b85f3",
   "metadata": {},
   "outputs": [],
   "source": [
    "#########################\n",
    "# CODE WITH MANUAL IMPLEMENTATION OF FLD(Code From Scratch)\n",
    "# Classification Type : Fischer Linear Discriminant Analysis (FLD)\n",
    "# DATASET :\"Bone Mineral Density(bmd.csv)\"\n",
    "#########################"
   ]
  },
  {
   "cell_type": "code",
   "execution_count": 4,
   "id": "c914e24e",
   "metadata": {},
   "outputs": [],
   "source": [
    "#########################\n",
    "# Importing Basic Libraries\n",
    "#########################\n",
    "import pandas as pd\n",
    "import numpy as np\n",
    "from sklearn.preprocessing import LabelEncoder\n",
    "import math"
   ]
  },
  {
   "cell_type": "code",
   "execution_count": 5,
   "id": "74dbea6d",
   "metadata": {},
   "outputs": [
    {
     "data": {
      "text/html": [
       "<div>\n",
       "<style scoped>\n",
       "    .dataframe tbody tr th:only-of-type {\n",
       "        vertical-align: middle;\n",
       "    }\n",
       "\n",
       "    .dataframe tbody tr th {\n",
       "        vertical-align: top;\n",
       "    }\n",
       "\n",
       "    .dataframe thead th {\n",
       "        text-align: right;\n",
       "    }\n",
       "</style>\n",
       "<table border=\"1\" class=\"dataframe\">\n",
       "  <thead>\n",
       "    <tr style=\"text-align: right;\">\n",
       "      <th></th>\n",
       "      <th>id</th>\n",
       "      <th>age</th>\n",
       "      <th>sex</th>\n",
       "      <th>fracture</th>\n",
       "      <th>weight_kg</th>\n",
       "      <th>height_cm</th>\n",
       "      <th>medication</th>\n",
       "      <th>waiting_time</th>\n",
       "      <th>bmd</th>\n",
       "    </tr>\n",
       "  </thead>\n",
       "  <tbody>\n",
       "    <tr>\n",
       "      <th>0</th>\n",
       "      <td>469</td>\n",
       "      <td>57.052768</td>\n",
       "      <td>F</td>\n",
       "      <td>no fracture</td>\n",
       "      <td>64.0</td>\n",
       "      <td>155.5</td>\n",
       "      <td>Anticonvulsant</td>\n",
       "      <td>18</td>\n",
       "      <td>0.8793</td>\n",
       "    </tr>\n",
       "    <tr>\n",
       "      <th>1</th>\n",
       "      <td>8724</td>\n",
       "      <td>75.741225</td>\n",
       "      <td>F</td>\n",
       "      <td>no fracture</td>\n",
       "      <td>78.0</td>\n",
       "      <td>162.0</td>\n",
       "      <td>No medication</td>\n",
       "      <td>56</td>\n",
       "      <td>0.7946</td>\n",
       "    </tr>\n",
       "    <tr>\n",
       "      <th>2</th>\n",
       "      <td>6736</td>\n",
       "      <td>70.778900</td>\n",
       "      <td>M</td>\n",
       "      <td>no fracture</td>\n",
       "      <td>73.0</td>\n",
       "      <td>170.5</td>\n",
       "      <td>No medication</td>\n",
       "      <td>10</td>\n",
       "      <td>0.9067</td>\n",
       "    </tr>\n",
       "    <tr>\n",
       "      <th>3</th>\n",
       "      <td>24180</td>\n",
       "      <td>78.247175</td>\n",
       "      <td>F</td>\n",
       "      <td>no fracture</td>\n",
       "      <td>60.0</td>\n",
       "      <td>148.0</td>\n",
       "      <td>No medication</td>\n",
       "      <td>14</td>\n",
       "      <td>0.7112</td>\n",
       "    </tr>\n",
       "    <tr>\n",
       "      <th>4</th>\n",
       "      <td>17072</td>\n",
       "      <td>54.191877</td>\n",
       "      <td>M</td>\n",
       "      <td>no fracture</td>\n",
       "      <td>55.0</td>\n",
       "      <td>161.0</td>\n",
       "      <td>No medication</td>\n",
       "      <td>20</td>\n",
       "      <td>0.7909</td>\n",
       "    </tr>\n",
       "  </tbody>\n",
       "</table>\n",
       "</div>"
      ],
      "text/plain": [
       "      id        age sex     fracture  weight_kg  height_cm      medication  \\\n",
       "0    469  57.052768   F  no fracture       64.0      155.5  Anticonvulsant   \n",
       "1   8724  75.741225   F  no fracture       78.0      162.0   No medication   \n",
       "2   6736  70.778900   M  no fracture       73.0      170.5   No medication   \n",
       "3  24180  78.247175   F  no fracture       60.0      148.0   No medication   \n",
       "4  17072  54.191877   M  no fracture       55.0      161.0   No medication   \n",
       "\n",
       "   waiting_time     bmd  \n",
       "0            18  0.8793  \n",
       "1            56  0.7946  \n",
       "2            10  0.9067  \n",
       "3            14  0.7112  \n",
       "4            20  0.7909  "
      ]
     },
     "execution_count": 5,
     "metadata": {},
     "output_type": "execute_result"
    }
   ],
   "source": [
    "#########################\n",
    "# Loading dataset\n",
    "#########################\n",
    "df = pd.read_csv(\"E:/Codes/Jupyter/Datasets/bmd.csv\")\n",
    "df.head(5)"
   ]
  },
  {
   "cell_type": "code",
   "execution_count": 6,
   "id": "985ef14d",
   "metadata": {},
   "outputs": [
    {
     "data": {
      "text/plain": [
       "array([2, 2, 2, 2, 2, 2, 2, 2, 2, 2, 2, 2, 2, 2, 2, 2, 2, 2, 2, 2, 2, 2,\n",
       "       2, 2, 2, 2, 2, 2, 2, 2, 2, 2, 2, 2, 2, 2, 2, 2, 2, 2, 2, 2, 2, 2,\n",
       "       2, 2, 2, 2, 2, 2, 2, 2, 2, 2, 2, 2, 2, 2, 2, 2, 2, 2, 2, 2, 2, 2,\n",
       "       2, 2, 2, 2, 2, 2, 2, 2, 2, 2, 2, 2, 2, 2, 2, 2, 2, 2, 2, 2, 2, 2,\n",
       "       2, 2, 2, 2, 2, 2, 2, 2, 2, 2, 2, 2, 2, 2, 2, 2, 2, 2, 2, 2, 2, 2,\n",
       "       2, 2, 2, 2, 2, 2, 2, 2, 2, 1, 1, 1, 1, 1, 1, 1, 1, 1, 1, 1, 1, 1,\n",
       "       1, 1, 1, 1, 1, 1, 1, 1, 1, 1, 1, 1, 1, 1, 1, 1, 1, 1, 1, 1, 1, 1,\n",
       "       1, 1, 1, 1, 1, 1, 1, 1, 1, 1, 1, 1, 1, 1, 1])"
      ]
     },
     "execution_count": 6,
     "metadata": {},
     "output_type": "execute_result"
    }
   ],
   "source": [
    "#########################\n",
    "# Allocating data Columns to variables\n",
    "#########################\n",
    "from sklearn.preprocessing import LabelEncoder\n",
    "\n",
    "X = df.iloc[:,[1,4,5,7,8]].values\n",
    "y = df['fracture'].values\n",
    "\n",
    "#########################\n",
    "# Assigning Numeric Values to String Data\n",
    "#########################\n",
    "enc = LabelEncoder()\n",
    "label_encoder = enc.fit(y)\n",
    "y = label_encoder.transform(y) + 1\n",
    "\n",
    "label_dict = {1: 'no fracture', 2: 'fracture'}\n",
    "y"
   ]
  },
  {
   "cell_type": "code",
   "execution_count": 7,
   "id": "6ff2f924",
   "metadata": {},
   "outputs": [],
   "source": [
    "#########################\n",
    "# Creating Dictionary for Histograms\n",
    "#########################\n",
    "feature_dict = {i:label for i,label in zip(\n",
    "                range(5),\n",
    "                  ('Age',\n",
    "                  'Weight in Kg',\n",
    "                  'Height in cm',\n",
    "                  'Waiting Time',\n",
    "                  'Bmd'))}"
   ]
  },
  {
   "cell_type": "code",
   "execution_count": 8,
   "id": "1380bdfd",
   "metadata": {},
   "outputs": [],
   "source": [
    "%matplotlib inline"
   ]
  },
  {
   "cell_type": "code",
   "execution_count": 9,
   "id": "91663715",
   "metadata": {},
   "outputs": [
    {
     "data": {
      "image/png": "[encoded data removed]",
      "text/plain": [
       "<Figure size 864x432 with 4 Axes>"
      ]
     },
     "metadata": {
      "needs_background": "light"
     },
     "output_type": "display_data"
    }
   ],
   "source": [
    "#########################\n",
    "# Plotting Histograms to get basic Idea of variance\n",
    "#########################\n",
    "from matplotlib import pyplot as plt\n",
    "import numpy as np\n",
    "import math\n",
    "\n",
    "fig, axes = plt.subplots(nrows=2, ncols=2, figsize=(12,6))\n",
    "\n",
    "for ax,cnt in zip(axes.ravel(), range(5)):  \n",
    "\n",
    "    # set bin sizes\n",
    "    min_b = math.floor(np.min(X[:,cnt]))\n",
    "    max_b = math.ceil(np.max(X[:,cnt]))\n",
    "    bins = np.linspace(min_b, max_b, 25)\n",
    "\n",
    "    # plottling the histograms\n",
    "    for lab,col in zip(range(1,3), ('blue', 'red')):\n",
    "        ax.hist(X[y==lab, cnt],color=col, label='class %s' %label_dict[lab],bins=bins, alpha=0.5,)\n",
    "    ylims = ax.get_ylim()\n",
    "\n",
    "    # plot annotation\n",
    "    leg = ax.legend(loc='upper right', fancybox=True, fontsize=8)\n",
    "    leg.get_frame().set_alpha(0.5)\n",
    "    ax.set_ylim([0, max(ylims)+2])\n",
    "    ax.set_xlabel(feature_dict[cnt])\n",
    "    ax.set_title('BMD Histogram #%s' %str(cnt+1))\n",
    "\n",
    "axes[0][0].set_ylabel('count')\n",
    "axes[1][0].set_ylabel('count')\n",
    "\n",
    "fig.tight_layout()       \n",
    "\n",
    "plt.show()"
   ]
  },
  {
   "cell_type": "code",
   "execution_count": 14,
   "id": "be51d152",
   "metadata": {},
   "outputs": [
    {
     "name": "stdout",
     "output_type": "stream",
     "text": [
      "Mean Vector class 1: [ 69.7713  58.41   159.29    23.3      0.6233]\n",
      "\n",
      "Mean Vector class 2: [ 61.0518  67.2941 160.6597  18.2437   0.8502]\n",
      "\n"
     ]
    }
   ],
   "source": [
    "#########################\n",
    "# Creating Vectors based on the data\n",
    "#########################\n",
    "np.set_printoptions(precision=4)\n",
    "\n",
    "mean_vectors = []\n",
    "for cl in range(1,3):\n",
    "    mean_vectors.append(np.mean(X[y==cl], axis=0))\n",
    "    print('Mean Vector class %s: %s\\n' %(cl, mean_vectors[cl-1]))"
   ]
  },
  {
   "cell_type": "code",
   "execution_count": 15,
   "id": "0446da63",
   "metadata": {},
   "outputs": [
    {
     "name": "stdout",
     "output_type": "stream",
     "text": [
      "within-class Scatter Matrix:\n",
      " [[ 2.2976e+04  4.9711e+02 -3.1226e+03 -3.2018e+02 -3.6319e+01]\n",
      " [ 4.9711e+02  1.9583e+04  5.2240e+03  1.5182e+02  1.0847e+02]\n",
      " [-3.1226e+03  5.2240e+03  1.0494e+04  4.3902e+02  6.1018e+01]\n",
      " [-3.2018e+02  1.5182e+02  4.3902e+02  4.1042e+04 -4.4505e+01]\n",
      " [-3.6319e+01  1.0847e+02  6.1018e+01 -4.4505e+01  2.8458e+00]]\n"
     ]
    }
   ],
   "source": [
    "#########################\n",
    "# Creating Matrix from the above set of vecotors\n",
    "#########################\n",
    "S_W = np.zeros((5,5))\n",
    "for cl,mv in zip(range(1,5), mean_vectors):\n",
    "    class_sc_mat = np.zeros((5,5))                  # scatter matrix for every class\n",
    "    for row in X[y == cl]:\n",
    "        row, mv = row.reshape(5,1), mv.reshape(5,1) # make column vectors\n",
    "        class_sc_mat += (row-mv).dot((row-mv).T)\n",
    "    S_W += class_sc_mat                             # sum class scatter matrices\n",
    "print('within-class Scatter Matrix:\\n', S_W)"
   ]
  },
  {
   "cell_type": "code",
   "execution_count": 16,
   "id": "072fff03",
   "metadata": {},
   "outputs": [
    {
     "name": "stdout",
     "output_type": "stream",
     "text": [
      "between-class Scatter Matrix:\n",
      " [[ 2.6768e+03 -2.7273e+03 -4.2047e+02  1.5522e+03 -6.9667e+01]\n",
      " [-2.7273e+03  2.7788e+03  4.2841e+02 -1.5815e+03  7.0982e+01]\n",
      " [-4.2047e+02  4.2841e+02  6.6048e+01 -2.4382e+02  1.0943e+01]\n",
      " [ 1.5522e+03 -1.5815e+03 -2.4382e+02  9.0011e+02 -4.0399e+01]\n",
      " [-6.9667e+01  7.0982e+01  1.0943e+01 -4.0399e+01  1.8132e+00]]\n"
     ]
    }
   ],
   "source": [
    "#########################\n",
    "# Calculating mean and Subtracting from each element\n",
    "#########################\n",
    "overall_mean = np.mean(X, axis=0)\n",
    "\n",
    "S_B = np.zeros((5,5))\n",
    "for i,mean_vec in enumerate(mean_vectors):  \n",
    "    n = X[y==i+1,:].shape[0]\n",
    "    mean_vec = mean_vec.reshape(5,1) # make column vector\n",
    "    overall_mean = overall_mean.reshape(5,1) # make column vector\n",
    "    S_B += n * (mean_vec - overall_mean).dot((mean_vec - overall_mean).T)\n",
    "\n",
    "print('between-class Scatter Matrix:\\n', S_B)"
   ]
  },
  {
   "cell_type": "code",
   "execution_count": 17,
   "id": "215a307a",
   "metadata": {},
   "outputs": [
    {
     "name": "stdout",
     "output_type": "stream",
     "text": [
      "\n",
      "Eigenvector 1: \n",
      "[[-2.7228e-02]\n",
      " [-1.9234e-03]\n",
      " [ 6.3324e-03]\n",
      " [ 4.2539e-04]\n",
      " [-9.9961e-01]]\n",
      "Eigenvalue 1: 1.11e-16\n",
      "\n",
      "Eigenvector 2: \n",
      "[[ 4.0681e-03]\n",
      " [-1.9241e-03]\n",
      " [ 6.3347e-03]\n",
      " [ 4.2554e-04]\n",
      " [-9.9997e-01]]\n",
      "Eigenvalue 2: 7.69e-01\n",
      "\n",
      "Eigenvector 3: \n",
      "[[-0.0288]\n",
      " [ 0.0509]\n",
      " [-0.3406]\n",
      " [ 0.0046]\n",
      " [-0.9384]]\n",
      "Eigenvalue 3: 5.28e-18\n",
      "\n",
      "Eigenvector 4: \n",
      "[[ 1.0223e-03]\n",
      " [-2.1267e-02]\n",
      " [-2.2948e-02]\n",
      " [-4.8601e-04]\n",
      " [ 9.9951e-01]]\n",
      "Eigenvalue 4: -4.74e-17\n",
      "\n",
      "Eigenvector 5: \n",
      "[[ 0.0148]\n",
      " [-0.0085]\n",
      " [ 0.2181]\n",
      " [ 0.0624]\n",
      " [ 0.9738]]\n",
      "Eigenvalue 5: 1.94e-18\n"
     ]
    }
   ],
   "source": [
    "#########################\n",
    "# Calculating Eigenvalues of the Vectors\n",
    "#########################\n",
    "eig_vals, eig_vecs = np.linalg.eig(np.linalg.inv(S_W).dot(S_B))\n",
    "\n",
    "for i in range(len(eig_vals)):\n",
    "    eigvec_sc = eig_vecs[:,i].reshape(5,1)   \n",
    "    print('\\nEigenvector {}: \\n{}'.format(i+1, eigvec_sc.real))\n",
    "    print('Eigenvalue {:}: {:.2e}'.format(i+1, eig_vals[i].real))"
   ]
  },
  {
   "cell_type": "code",
   "execution_count": 18,
   "id": "1536911c",
   "metadata": {},
   "outputs": [
    {
     "name": "stdout",
     "output_type": "stream",
     "text": [
      "ok\n"
     ]
    }
   ],
   "source": [
    "#########################\n",
    "# Creating Assertion for array\n",
    "#########################\n",
    "for i in range(len(eig_vals)):\n",
    "    eigv = eig_vecs[:,i].reshape(5,1)\n",
    "    np.testing.assert_array_almost_equal(np.linalg.inv(S_W).dot(S_B).dot(eigv),\n",
    "                                         eig_vals[i] * eigv,\n",
    "                                         decimal=6, err_msg='', verbose=True)\n",
    "print('ok')"
   ]
  },
  {
   "cell_type": "code",
   "execution_count": 19,
   "id": "46e68c89",
   "metadata": {},
   "outputs": [
    {
     "name": "stdout",
     "output_type": "stream",
     "text": [
      "Eigenvalues in decreasing order:\n",
      "\n",
      "0.7694317902528193\n",
      "1.1102230246251565e-16\n",
      "4.744649518712904e-17\n",
      "5.284215795411232e-18\n",
      "1.9431011039944554e-18\n"
     ]
    }
   ],
   "source": [
    "# Make a list of (eigenvalue, eigenvector) tuples\n",
    "eig_pairs = [(np.abs(eig_vals[i]), eig_vecs[:,i]) for i in range(len(eig_vals))]\n",
    "\n",
    "# Sort the (eigenvalue, eigenvector) tuples from high to low\n",
    "eig_pairs = sorted(eig_pairs, key=lambda k: k[0], reverse=True)\n",
    "\n",
    "# Visually confirm that the list is correctly sorted by decreasing eigenvalues\n",
    "\n",
    "print('Eigenvalues in decreasing order:\\n')\n",
    "for i in eig_pairs:\n",
    "    print(i[0])"
   ]
  },
  {
   "cell_type": "code",
   "execution_count": 20,
   "id": "6100bc01",
   "metadata": {},
   "outputs": [
    {
     "name": "stdout",
     "output_type": "stream",
     "text": [
      "Variance explained:\n",
      "\n",
      "eigenvalue 1: 100.00%\n",
      "eigenvalue 2: 0.00%\n",
      "eigenvalue 3: 0.00%\n",
      "eigenvalue 4: 0.00%\n",
      "eigenvalue 5: 0.00%\n"
     ]
    }
   ],
   "source": [
    "#########################\n",
    "# Calculating Variances in the above obtained Eigenvalues\n",
    "#########################\n",
    "print('Variance explained:\\n')\n",
    "eigv_sum = sum(eig_vals)\n",
    "for i,j in enumerate(eig_pairs):\n",
    "    print('eigenvalue {0:}: {1:.2%}'.format(i+1, (j[0]/eigv_sum).real))"
   ]
  },
  {
   "cell_type": "code",
   "execution_count": 21,
   "id": "6a9196b8",
   "metadata": {},
   "outputs": [
    {
     "name": "stdout",
     "output_type": "stream",
     "text": [
      "Matrix W:\n",
      " [[ 4.0681e-03 -2.7228e-02]\n",
      " [-1.9241e-03 -1.9234e-03]\n",
      " [ 6.3347e-03  6.3324e-03]\n",
      " [ 4.2554e-04  4.2539e-04]\n",
      " [-9.9997e-01 -9.9961e-01]]\n"
     ]
    }
   ],
   "source": [
    "#########################\n",
    "# Making matrix from the obtained Variance in Eigenvectors\n",
    "#########################\n",
    "W = np.hstack((eig_pairs[0][1].reshape(5,1), eig_pairs[1][1].reshape(5,1)))\n",
    "print('Matrix W:\\n', W.real)"
   ]
  },
  {
   "cell_type": "code",
   "execution_count": 22,
   "id": "3f22ab4b",
   "metadata": {},
   "outputs": [],
   "source": [
    "X_lda = X.dot(W)\n",
    "assert X_lda.shape == (169,2), \"The matrix is not 150x2 dimensional.\""
   ]
  },
  {
   "cell_type": "code",
   "execution_count": 23,
   "id": "154a4fa4",
   "metadata": {},
   "outputs": [
    {
     "data": {
      "image/png": "[encoded data removed]",
      "text/plain": [
       "<Figure size 432x288 with 1 Axes>"
      ]
     },
     "metadata": {
      "needs_background": "light"
     },
     "output_type": "display_data"
    }
   ],
   "source": [
    "#########################\n",
    "# Scatter Ploting the Data\n",
    "#########################\n",
    "from matplotlib import pyplot as plt\n",
    "\n",
    "def plot_step_lda():\n",
    "\n",
    "    ax = plt.subplot(111)\n",
    "    for label,marker,color in zip(\n",
    "        range(1,3),('^', 's'),('blue', 'red')):\n",
    "\n",
    "        plt.scatter(x=X_lda[:,0].real[y == label],\n",
    "                y=X_lda[:,1].real[y == label],\n",
    "                marker=marker,\n",
    "                color=color,\n",
    "                alpha=0.5,\n",
    "                label=label_dict[label]\n",
    "                )\n",
    "\n",
    "    plt.xlabel('LD1')\n",
    "    plt.ylabel('LD2')\n",
    "\n",
    "    leg = plt.legend(loc='upper right', fancybox=True)\n",
    "    leg.get_frame().set_alpha(0.5)\n",
    "    plt.title('LDA: Iris projection onto the first 2 linear discriminants')\n",
    "\n",
    "    # hide axis ticks\n",
    "    plt.tick_params(axis=\"both\", which=\"both\", bottom=\"off\", top=\"off\",  \n",
    "            labelbottom=\"on\", left=\"off\", right=\"off\", labelleft=\"on\")\n",
    "\n",
    "    # remove axis spines\n",
    "    ax.spines[\"top\"].set_visible(False)  \n",
    "    ax.spines[\"right\"].set_visible(False)\n",
    "    ax.spines[\"bottom\"].set_visible(False)\n",
    "    ax.spines[\"left\"].set_visible(False)    \n",
    "\n",
    "    plt.grid()\n",
    "    plt.tight_layout\n",
    "    plt.show()\n",
    "\n",
    "plot_step_lda()"
   ]
  },
  {
   "cell_type": "code",
   "execution_count": null,
   "id": "5f350561",
   "metadata": {},
   "outputs": [],
   "source": []
  }
 ],
 "metadata": {
  "kernelspec": {
   "display_name": "Python 3",
   "language": "python",
   "name": "python3"
  },
  "language_info": {
   "codemirror_mode": {
    "name": "ipython",
    "version": 3
   },
   "file_extension": ".py",
   "mimetype": "text/x-python",
   "name": "python",
   "nbconvert_exporter": "python",
   "pygments_lexer": "ipython3",
   "version": "3.8.8"
  }
 },
 "nbformat": 4,
 "nbformat_minor": 5
}
