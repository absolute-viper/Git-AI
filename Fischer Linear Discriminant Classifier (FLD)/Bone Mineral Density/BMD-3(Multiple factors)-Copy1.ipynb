{
 "cells": [
  {
   "cell_type": "code",
   "execution_count": 7,
   "id": "fafc7a3f",
   "metadata": {},
   "outputs": [],
   "source": [
    "import pandas as pd\n",
    "import numpy as np\n",
    "import math"
   ]
  },
  {
   "cell_type": "code",
   "execution_count": 8,
   "id": "14a004b9",
   "metadata": {},
   "outputs": [
    {
     "data": {
      "text/html": [
       "<div>\n",
       "<style scoped>\n",
       "    .dataframe tbody tr th:only-of-type {\n",
       "        vertical-align: middle;\n",
       "    }\n",
       "\n",
       "    .dataframe tbody tr th {\n",
       "        vertical-align: top;\n",
       "    }\n",
       "\n",
       "    .dataframe thead th {\n",
       "        text-align: right;\n",
       "    }\n",
       "</style>\n",
       "<table border=\"1\" class=\"dataframe\">\n",
       "  <thead>\n",
       "    <tr style=\"text-align: right;\">\n",
       "      <th></th>\n",
       "      <th>id</th>\n",
       "      <th>age</th>\n",
       "      <th>sex</th>\n",
       "      <th>fracture</th>\n",
       "      <th>weight_kg</th>\n",
       "      <th>height_cm</th>\n",
       "      <th>medication</th>\n",
       "      <th>waiting_time</th>\n",
       "      <th>bmd</th>\n",
       "    </tr>\n",
       "  </thead>\n",
       "  <tbody>\n",
       "    <tr>\n",
       "      <th>0</th>\n",
       "      <td>469</td>\n",
       "      <td>57.052768</td>\n",
       "      <td>F</td>\n",
       "      <td>no fracture</td>\n",
       "      <td>64.0</td>\n",
       "      <td>155.5</td>\n",
       "      <td>Anticonvulsant</td>\n",
       "      <td>18</td>\n",
       "      <td>0.8793</td>\n",
       "    </tr>\n",
       "    <tr>\n",
       "      <th>1</th>\n",
       "      <td>8724</td>\n",
       "      <td>75.741225</td>\n",
       "      <td>F</td>\n",
       "      <td>no fracture</td>\n",
       "      <td>78.0</td>\n",
       "      <td>162.0</td>\n",
       "      <td>No medication</td>\n",
       "      <td>56</td>\n",
       "      <td>0.7946</td>\n",
       "    </tr>\n",
       "    <tr>\n",
       "      <th>2</th>\n",
       "      <td>6736</td>\n",
       "      <td>70.778900</td>\n",
       "      <td>M</td>\n",
       "      <td>no fracture</td>\n",
       "      <td>73.0</td>\n",
       "      <td>170.5</td>\n",
       "      <td>No medication</td>\n",
       "      <td>10</td>\n",
       "      <td>0.9067</td>\n",
       "    </tr>\n",
       "    <tr>\n",
       "      <th>3</th>\n",
       "      <td>24180</td>\n",
       "      <td>78.247175</td>\n",
       "      <td>F</td>\n",
       "      <td>no fracture</td>\n",
       "      <td>60.0</td>\n",
       "      <td>148.0</td>\n",
       "      <td>No medication</td>\n",
       "      <td>14</td>\n",
       "      <td>0.7112</td>\n",
       "    </tr>\n",
       "    <tr>\n",
       "      <th>4</th>\n",
       "      <td>17072</td>\n",
       "      <td>54.191877</td>\n",
       "      <td>M</td>\n",
       "      <td>no fracture</td>\n",
       "      <td>55.0</td>\n",
       "      <td>161.0</td>\n",
       "      <td>No medication</td>\n",
       "      <td>20</td>\n",
       "      <td>0.7909</td>\n",
       "    </tr>\n",
       "  </tbody>\n",
       "</table>\n",
       "</div>"
      ],
      "text/plain": [
       "      id        age sex     fracture  weight_kg  height_cm      medication  \\\n",
       "0    469  57.052768   F  no fracture       64.0      155.5  Anticonvulsant   \n",
       "1   8724  75.741225   F  no fracture       78.0      162.0   No medication   \n",
       "2   6736  70.778900   M  no fracture       73.0      170.5   No medication   \n",
       "3  24180  78.247175   F  no fracture       60.0      148.0   No medication   \n",
       "4  17072  54.191877   M  no fracture       55.0      161.0   No medication   \n",
       "\n",
       "   waiting_time     bmd  \n",
       "0            18  0.8793  \n",
       "1            56  0.7946  \n",
       "2            10  0.9067  \n",
       "3            14  0.7112  \n",
       "4            20  0.7909  "
      ]
     },
     "execution_count": 8,
     "metadata": {},
     "output_type": "execute_result"
    }
   ],
   "source": [
    "df = pd.read_csv(\"E:/Codes/Jupyter/Datasets/bmd.csv\")\n",
    "df.head(5)"
   ]
  },
  {
   "cell_type": "code",
   "execution_count": 9,
   "id": "1fff3da8",
   "metadata": {},
   "outputs": [
    {
     "data": {
      "text/html": [
       "<div>\n",
       "<style scoped>\n",
       "    .dataframe tbody tr th:only-of-type {\n",
       "        vertical-align: middle;\n",
       "    }\n",
       "\n",
       "    .dataframe tbody tr th {\n",
       "        vertical-align: top;\n",
       "    }\n",
       "\n",
       "    .dataframe thead th {\n",
       "        text-align: right;\n",
       "    }\n",
       "</style>\n",
       "<table border=\"1\" class=\"dataframe\">\n",
       "  <thead>\n",
       "    <tr style=\"text-align: right;\">\n",
       "      <th></th>\n",
       "      <th>age</th>\n",
       "      <th>sex</th>\n",
       "      <th>fracture</th>\n",
       "      <th>weight_kg</th>\n",
       "      <th>height_cm</th>\n",
       "      <th>medication</th>\n",
       "      <th>waiting_time</th>\n",
       "      <th>bmd</th>\n",
       "    </tr>\n",
       "  </thead>\n",
       "  <tbody>\n",
       "    <tr>\n",
       "      <th>0</th>\n",
       "      <td>57.052768</td>\n",
       "      <td>0</td>\n",
       "      <td>2</td>\n",
       "      <td>64.0</td>\n",
       "      <td>155.5</td>\n",
       "      <td>0</td>\n",
       "      <td>18</td>\n",
       "      <td>0.8793</td>\n",
       "    </tr>\n",
       "    <tr>\n",
       "      <th>1</th>\n",
       "      <td>75.741225</td>\n",
       "      <td>0</td>\n",
       "      <td>2</td>\n",
       "      <td>78.0</td>\n",
       "      <td>162.0</td>\n",
       "      <td>2</td>\n",
       "      <td>56</td>\n",
       "      <td>0.7946</td>\n",
       "    </tr>\n",
       "    <tr>\n",
       "      <th>2</th>\n",
       "      <td>70.778900</td>\n",
       "      <td>1</td>\n",
       "      <td>2</td>\n",
       "      <td>73.0</td>\n",
       "      <td>170.5</td>\n",
       "      <td>2</td>\n",
       "      <td>10</td>\n",
       "      <td>0.9067</td>\n",
       "    </tr>\n",
       "    <tr>\n",
       "      <th>3</th>\n",
       "      <td>78.247175</td>\n",
       "      <td>0</td>\n",
       "      <td>2</td>\n",
       "      <td>60.0</td>\n",
       "      <td>148.0</td>\n",
       "      <td>2</td>\n",
       "      <td>14</td>\n",
       "      <td>0.7112</td>\n",
       "    </tr>\n",
       "    <tr>\n",
       "      <th>4</th>\n",
       "      <td>54.191877</td>\n",
       "      <td>1</td>\n",
       "      <td>2</td>\n",
       "      <td>55.0</td>\n",
       "      <td>161.0</td>\n",
       "      <td>2</td>\n",
       "      <td>20</td>\n",
       "      <td>0.7909</td>\n",
       "    </tr>\n",
       "    <tr>\n",
       "      <th>...</th>\n",
       "      <td>...</td>\n",
       "      <td>...</td>\n",
       "      <td>...</td>\n",
       "      <td>...</td>\n",
       "      <td>...</td>\n",
       "      <td>...</td>\n",
       "      <td>...</td>\n",
       "      <td>...</td>\n",
       "    </tr>\n",
       "    <tr>\n",
       "      <th>164</th>\n",
       "      <td>77.982543</td>\n",
       "      <td>1</td>\n",
       "      <td>1</td>\n",
       "      <td>74.0</td>\n",
       "      <td>164.0</td>\n",
       "      <td>2</td>\n",
       "      <td>49</td>\n",
       "      <td>0.7941</td>\n",
       "    </tr>\n",
       "    <tr>\n",
       "      <th>165</th>\n",
       "      <td>50.285303</td>\n",
       "      <td>0</td>\n",
       "      <td>1</td>\n",
       "      <td>59.0</td>\n",
       "      <td>161.0</td>\n",
       "      <td>2</td>\n",
       "      <td>6</td>\n",
       "      <td>0.7971</td>\n",
       "    </tr>\n",
       "    <tr>\n",
       "      <th>166</th>\n",
       "      <td>46.359721</td>\n",
       "      <td>1</td>\n",
       "      <td>1</td>\n",
       "      <td>67.0</td>\n",
       "      <td>169.0</td>\n",
       "      <td>2</td>\n",
       "      <td>10</td>\n",
       "      <td>0.8037</td>\n",
       "    </tr>\n",
       "    <tr>\n",
       "      <th>167</th>\n",
       "      <td>54.788368</td>\n",
       "      <td>1</td>\n",
       "      <td>1</td>\n",
       "      <td>70.0</td>\n",
       "      <td>166.0</td>\n",
       "      <td>2</td>\n",
       "      <td>14</td>\n",
       "      <td>0.8072</td>\n",
       "    </tr>\n",
       "    <tr>\n",
       "      <th>168</th>\n",
       "      <td>69.994822</td>\n",
       "      <td>0</td>\n",
       "      <td>1</td>\n",
       "      <td>68.5</td>\n",
       "      <td>165.0</td>\n",
       "      <td>2</td>\n",
       "      <td>25</td>\n",
       "      <td>0.8664</td>\n",
       "    </tr>\n",
       "  </tbody>\n",
       "</table>\n",
       "<p>169 rows × 8 columns</p>\n",
       "</div>"
      ],
      "text/plain": [
       "           age  sex  fracture  weight_kg  height_cm  medication  waiting_time  \\\n",
       "0    57.052768    0         2       64.0      155.5           0            18   \n",
       "1    75.741225    0         2       78.0      162.0           2            56   \n",
       "2    70.778900    1         2       73.0      170.5           2            10   \n",
       "3    78.247175    0         2       60.0      148.0           2            14   \n",
       "4    54.191877    1         2       55.0      161.0           2            20   \n",
       "..         ...  ...       ...        ...        ...         ...           ...   \n",
       "164  77.982543    1         1       74.0      164.0           2            49   \n",
       "165  50.285303    0         1       59.0      161.0           2             6   \n",
       "166  46.359721    1         1       67.0      169.0           2            10   \n",
       "167  54.788368    1         1       70.0      166.0           2            14   \n",
       "168  69.994822    0         1       68.5      165.0           2            25   \n",
       "\n",
       "        bmd  \n",
       "0    0.8793  \n",
       "1    0.7946  \n",
       "2    0.9067  \n",
       "3    0.7112  \n",
       "4    0.7909  \n",
       "..      ...  \n",
       "164  0.7941  \n",
       "165  0.7971  \n",
       "166  0.8037  \n",
       "167  0.8072  \n",
       "168  0.8664  \n",
       "\n",
       "[169 rows x 8 columns]"
      ]
     },
     "execution_count": 9,
     "metadata": {},
     "output_type": "execute_result"
    }
   ],
   "source": [
    "################\n",
    "# Cleaning Data\n",
    "###############\n",
    "\n",
    "from sklearn.preprocessing import LabelEncoder\n",
    "\n",
    "# creating instance of labelencoder\n",
    "labelencoder = LabelEncoder()\n",
    "# Assigning numerical values and storing in another column\n",
    "df['fracture'] = labelencoder.fit_transform(df['fracture'])+1\n",
    "df['medication'] = labelencoder.fit_transform(df['medication'])\n",
    "df['sex'] = labelencoder.fit_transform(df['sex'])\n",
    "df = df.drop(['id'],axis = 1)\n",
    "df"
   ]
  },
  {
   "cell_type": "code",
   "execution_count": 10,
   "id": "9af3b17f",
   "metadata": {},
   "outputs": [],
   "source": [
    "##########################\n",
    "# Mean & Sigma Calculations\n",
    "##########################\n",
    "\n",
    "frac = df[df['fracture']==1].loc[:,['bmd']].values\n",
    "frac_mean = round(np.mean(frac),6)\n",
    "no_frac = df[df['fracture']==2].loc[:,['bmd']].values\n",
    "no_frac_mean = round(np.mean(no_frac),6)\n",
    "\n",
    "count = 0\n",
    "for i in range(len(frac)):\n",
    "    count += (frac[i] - frac_mean)**2\n",
    "for j in range(len(no_frac)):\n",
    "    count += (no_frac[j] - no_frac_mean)**2\n",
    "sigma = math.sqrt((count)/(len(df)-2))\n",
    "sigma = round(sigma,6)"
   ]
  },
  {
   "cell_type": "code",
   "execution_count": 11,
   "id": "20212143",
   "metadata": {},
   "outputs": [
    {
     "name": "stdout",
     "output_type": "stream",
     "text": [
      "0.623308 0.850245 0.130539\n"
     ]
    }
   ],
   "source": [
    "print(frac_mean,no_frac_mean,sigma)"
   ]
  },
  {
   "cell_type": "code",
   "execution_count": 12,
   "id": "f32155c0",
   "metadata": {},
   "outputs": [
    {
     "data": {
      "text/html": [
       "<div>\n",
       "<style scoped>\n",
       "    .dataframe tbody tr th:only-of-type {\n",
       "        vertical-align: middle;\n",
       "    }\n",
       "\n",
       "    .dataframe tbody tr th {\n",
       "        vertical-align: top;\n",
       "    }\n",
       "\n",
       "    .dataframe thead th {\n",
       "        text-align: right;\n",
       "    }\n",
       "</style>\n",
       "<table border=\"1\" class=\"dataframe\">\n",
       "  <thead>\n",
       "    <tr style=\"text-align: right;\">\n",
       "      <th></th>\n",
       "      <th>Fracture</th>\n",
       "      <th>No fracture</th>\n",
       "    </tr>\n",
       "  </thead>\n",
       "  <tbody>\n",
       "    <tr>\n",
       "      <th>0</th>\n",
       "      <td>0.295858</td>\n",
       "      <td>0.704142</td>\n",
       "    </tr>\n",
       "  </tbody>\n",
       "</table>\n",
       "</div>"
      ],
      "text/plain": [
       "   Fracture  No fracture\n",
       "0  0.295858     0.704142"
      ]
     },
     "execution_count": 12,
     "metadata": {},
     "output_type": "execute_result"
    }
   ],
   "source": [
    "prob_frac = len(frac)/len(df)\n",
    "prob_no_frac = len(no_frac)/len(df)\n",
    "\n",
    "data = {'Fracture':[prob_frac],\n",
    "        'No fracture':[prob_no_frac]}\n",
    "  \n",
    "# Create DataFrame\n",
    "df_prob = pd.DataFrame(data)\n",
    "df_prob"
   ]
  },
  {
   "cell_type": "code",
   "execution_count": 13,
   "id": "5ef2f3bb",
   "metadata": {},
   "outputs": [
    {
     "data": {
      "text/plain": [
       "5.381123386450154"
      ]
     },
     "execution_count": 13,
     "metadata": {},
     "output_type": "execute_result"
    }
   ],
   "source": [
    "#for fracture\n",
    "0.54*frac_mean/sigma**2 - frac_mean**2/(2*sigma**2) + math.log(df_prob[\"Fracture\"])\n",
    "\n",
    "#for no fracture\n",
    "0.54*no_frac_mean/sigma**2 - no_frac_mean**2/(2*sigma**2) + math.log(df_prob[\"No fracture\"])"
   ]
  },
  {
   "cell_type": "code",
   "execution_count": 14,
   "id": "652fe9f8",
   "metadata": {},
   "outputs": [],
   "source": [
    "def normalize(arr, t_min, t_max):\n",
    "    norm_arr = []\n",
    "    diff = t_max - t_min\n",
    "    diff_arr = max(arr) - min(arr)    \n",
    "    for i in arr:\n",
    "        temp = (((i - min(arr))*diff)/diff_arr) + t_min\n",
    "        norm_arr.append(temp)\n",
    "    return norm_arr\n",
    "\n",
    "# normalise age\n",
    "array_1d = df['age'] \n",
    "range_to_normalize = (0,1)\n",
    "normalized_array_1d = normalize(array_1d, \n",
    "                                range_to_normalize[0], \n",
    "                                range_to_normalize[1])\n",
    "df['age']= normalized_array_1d\n",
    "\n",
    "# normalise weight\n",
    "array_1d = df['weight_kg'] \n",
    "range_to_normalize = (0,1)\n",
    "normalized_array_1d = normalize(array_1d, \n",
    "                                range_to_normalize[0], \n",
    "                                range_to_normalize[1])\n",
    "df['weight_kg']= normalized_array_1d\n",
    "\n",
    "# normalise height\n",
    "array_1d = df['height_cm'] \n",
    "range_to_normalize = (0,1)\n",
    "normalized_array_1d = normalize(array_1d, \n",
    "                                range_to_normalize[0], \n",
    "                                range_to_normalize[1])\n",
    "df['height_cm'] = normalized_array_1d\n",
    "\n",
    "# normalise height\n",
    "array_1d = df['height_cm'] \n",
    "range_to_normalize = (0,1)\n",
    "normalized_array_1d = normalize(array_1d, \n",
    "                                range_to_normalize[0], \n",
    "                                range_to_normalize[1])\n",
    "df['height_cm'] = normalized_array_1d\n",
    "\n",
    "# normalise waiting time\n",
    "array_1d = df['medication'] \n",
    "range_to_normalize = (0,1)\n",
    "normalized_array_1d = normalize(array_1d, \n",
    "                                range_to_normalize[0], \n",
    "                                range_to_normalize[1])\n",
    "df['medication']= normalized_array_1d\n",
    "\n",
    "# normalise waiting time\n",
    "array_1d = df['waiting_time'] \n",
    "range_to_normalize = (0,1)\n",
    "normalized_array_1d = normalize(array_1d, \n",
    "                                range_to_normalize[0], \n",
    "                                range_to_normalize[1])\n",
    "df['waiting_time']= normalized_array_1d\n",
    "\n",
    "# normalise bmd\n",
    "array_1d = df['bmd'] \n",
    "range_to_normalize = (0,1)\n",
    "normalized_array_1d = normalize(array_1d, \n",
    "                                range_to_normalize[0], \n",
    "                                range_to_normalize[1])\n",
    "df['bmd']= normalized_array_1d"
   ]
  },
  {
   "cell_type": "code",
   "execution_count": 15,
   "id": "16ec27b2",
   "metadata": {},
   "outputs": [],
   "source": [
    "df['age']= df['age'].round(4)\n",
    "df['weight_kg']= df['weight_kg'].round(4)\n",
    "df['height_cm']= df['height_cm'].round(4)\n",
    "df['medication']= df['medication'].round(4)\n",
    "df['waiting_time']= df['waiting_time'].round(4)\n",
    "df['bmd']= df['bmd'].round(4)"
   ]
  },
  {
   "cell_type": "code",
   "execution_count": 16,
   "id": "5d17b69b",
   "metadata": {},
   "outputs": [
    {
     "data": {
      "text/html": [
       "<div>\n",
       "<style scoped>\n",
       "    .dataframe tbody tr th:only-of-type {\n",
       "        vertical-align: middle;\n",
       "    }\n",
       "\n",
       "    .dataframe tbody tr th {\n",
       "        vertical-align: top;\n",
       "    }\n",
       "\n",
       "    .dataframe thead th {\n",
       "        text-align: right;\n",
       "    }\n",
       "</style>\n",
       "<table border=\"1\" class=\"dataframe\">\n",
       "  <thead>\n",
       "    <tr style=\"text-align: right;\">\n",
       "      <th></th>\n",
       "      <th>age</th>\n",
       "      <th>sex</th>\n",
       "      <th>fracture</th>\n",
       "      <th>weight_kg</th>\n",
       "      <th>height_cm</th>\n",
       "      <th>medication</th>\n",
       "      <th>waiting_time</th>\n",
       "      <th>bmd</th>\n",
       "    </tr>\n",
       "  </thead>\n",
       "  <tbody>\n",
       "    <tr>\n",
       "      <th>0</th>\n",
       "      <td>0.4012</td>\n",
       "      <td>0</td>\n",
       "      <td>2</td>\n",
       "      <td>0.4667</td>\n",
       "      <td>0.3857</td>\n",
       "      <td>0.0</td>\n",
       "      <td>0.1429</td>\n",
       "      <td>0.4940</td>\n",
       "    </tr>\n",
       "    <tr>\n",
       "      <th>1</th>\n",
       "      <td>0.7542</td>\n",
       "      <td>0</td>\n",
       "      <td>2</td>\n",
       "      <td>0.7000</td>\n",
       "      <td>0.5714</td>\n",
       "      <td>1.0</td>\n",
       "      <td>0.5604</td>\n",
       "      <td>0.4053</td>\n",
       "    </tr>\n",
       "    <tr>\n",
       "      <th>2</th>\n",
       "      <td>0.6605</td>\n",
       "      <td>1</td>\n",
       "      <td>2</td>\n",
       "      <td>0.6167</td>\n",
       "      <td>0.8143</td>\n",
       "      <td>1.0</td>\n",
       "      <td>0.0549</td>\n",
       "      <td>0.5227</td>\n",
       "    </tr>\n",
       "    <tr>\n",
       "      <th>3</th>\n",
       "      <td>0.8015</td>\n",
       "      <td>0</td>\n",
       "      <td>2</td>\n",
       "      <td>0.4000</td>\n",
       "      <td>0.1714</td>\n",
       "      <td>1.0</td>\n",
       "      <td>0.0989</td>\n",
       "      <td>0.3180</td>\n",
       "    </tr>\n",
       "    <tr>\n",
       "      <th>4</th>\n",
       "      <td>0.3471</td>\n",
       "      <td>1</td>\n",
       "      <td>2</td>\n",
       "      <td>0.3167</td>\n",
       "      <td>0.5429</td>\n",
       "      <td>1.0</td>\n",
       "      <td>0.1648</td>\n",
       "      <td>0.4014</td>\n",
       "    </tr>\n",
       "    <tr>\n",
       "      <th>...</th>\n",
       "      <td>...</td>\n",
       "      <td>...</td>\n",
       "      <td>...</td>\n",
       "      <td>...</td>\n",
       "      <td>...</td>\n",
       "      <td>...</td>\n",
       "      <td>...</td>\n",
       "      <td>...</td>\n",
       "    </tr>\n",
       "    <tr>\n",
       "      <th>164</th>\n",
       "      <td>0.7965</td>\n",
       "      <td>1</td>\n",
       "      <td>1</td>\n",
       "      <td>0.6333</td>\n",
       "      <td>0.6286</td>\n",
       "      <td>1.0</td>\n",
       "      <td>0.4835</td>\n",
       "      <td>0.4048</td>\n",
       "    </tr>\n",
       "    <tr>\n",
       "      <th>165</th>\n",
       "      <td>0.2734</td>\n",
       "      <td>0</td>\n",
       "      <td>1</td>\n",
       "      <td>0.3833</td>\n",
       "      <td>0.5429</td>\n",
       "      <td>1.0</td>\n",
       "      <td>0.0110</td>\n",
       "      <td>0.4079</td>\n",
       "    </tr>\n",
       "    <tr>\n",
       "      <th>166</th>\n",
       "      <td>0.1992</td>\n",
       "      <td>1</td>\n",
       "      <td>1</td>\n",
       "      <td>0.5167</td>\n",
       "      <td>0.7714</td>\n",
       "      <td>1.0</td>\n",
       "      <td>0.0549</td>\n",
       "      <td>0.4149</td>\n",
       "    </tr>\n",
       "    <tr>\n",
       "      <th>167</th>\n",
       "      <td>0.3584</td>\n",
       "      <td>1</td>\n",
       "      <td>1</td>\n",
       "      <td>0.5667</td>\n",
       "      <td>0.6857</td>\n",
       "      <td>1.0</td>\n",
       "      <td>0.0989</td>\n",
       "      <td>0.4185</td>\n",
       "    </tr>\n",
       "    <tr>\n",
       "      <th>168</th>\n",
       "      <td>0.6457</td>\n",
       "      <td>0</td>\n",
       "      <td>1</td>\n",
       "      <td>0.5417</td>\n",
       "      <td>0.6571</td>\n",
       "      <td>1.0</td>\n",
       "      <td>0.2198</td>\n",
       "      <td>0.4805</td>\n",
       "    </tr>\n",
       "  </tbody>\n",
       "</table>\n",
       "<p>169 rows × 8 columns</p>\n",
       "</div>"
      ],
      "text/plain": [
       "        age  sex  fracture  weight_kg  height_cm  medication  waiting_time  \\\n",
       "0    0.4012    0         2     0.4667     0.3857         0.0        0.1429   \n",
       "1    0.7542    0         2     0.7000     0.5714         1.0        0.5604   \n",
       "2    0.6605    1         2     0.6167     0.8143         1.0        0.0549   \n",
       "3    0.8015    0         2     0.4000     0.1714         1.0        0.0989   \n",
       "4    0.3471    1         2     0.3167     0.5429         1.0        0.1648   \n",
       "..      ...  ...       ...        ...        ...         ...           ...   \n",
       "164  0.7965    1         1     0.6333     0.6286         1.0        0.4835   \n",
       "165  0.2734    0         1     0.3833     0.5429         1.0        0.0110   \n",
       "166  0.1992    1         1     0.5167     0.7714         1.0        0.0549   \n",
       "167  0.3584    1         1     0.5667     0.6857         1.0        0.0989   \n",
       "168  0.6457    0         1     0.5417     0.6571         1.0        0.2198   \n",
       "\n",
       "        bmd  \n",
       "0    0.4940  \n",
       "1    0.4053  \n",
       "2    0.5227  \n",
       "3    0.3180  \n",
       "4    0.4014  \n",
       "..      ...  \n",
       "164  0.4048  \n",
       "165  0.4079  \n",
       "166  0.4149  \n",
       "167  0.4185  \n",
       "168  0.4805  \n",
       "\n",
       "[169 rows x 8 columns]"
      ]
     },
     "execution_count": 16,
     "metadata": {},
     "output_type": "execute_result"
    }
   ],
   "source": [
    "df"
   ]
  },
  {
   "cell_type": "code",
   "execution_count": 17,
   "id": "11e151ef",
   "metadata": {},
   "outputs": [],
   "source": [
    "X = df.iloc[:,[0,3,4,7]].values\n",
    "y = df['fracture'].values"
   ]
  },
  {
   "cell_type": "code",
   "execution_count": 18,
   "id": "d00a5aad",
   "metadata": {},
   "outputs": [],
   "source": [
    "%matplotlib inline"
   ]
  },
  {
   "cell_type": "code",
   "execution_count": 19,
   "id": "0ecaad9a",
   "metadata": {},
   "outputs": [],
   "source": [
    "label_dict = {1: 'no fracture', 2: 'fracture'}\n",
    "feature_dict = {i:label for i,label in zip(\n",
    "                range(4),\n",
    "                  ('Age',\n",
    "                  'Weight in Kg',\n",
    "                  'Height in cm',\n",
    "                  'Bmd'))}"
   ]
  },
  {
   "cell_type": "code",
   "execution_count": 20,
   "id": "925fbc77",
   "metadata": {},
   "outputs": [
    {
     "data": {
      "image/png": "[encoded data removed]",
      "text/plain": [
       "<Figure size 864x432 with 4 Axes>"
      ]
     },
     "metadata": {
      "needs_background": "light"
     },
     "output_type": "display_data"
    }
   ],
   "source": [
    "from matplotlib import pyplot as plt\n",
    "import numpy as np\n",
    "import math\n",
    "\n",
    "fig, axes = plt.subplots(nrows=2, ncols=2, figsize=(12,6))\n",
    "\n",
    "for ax,cnt in zip(axes.ravel(), range(4)):  \n",
    "\n",
    "    # set bin sizes\n",
    "    min_b = math.floor(np.min(X[:,cnt]))\n",
    "    max_b = math.ceil(np.max(X[:,cnt]))\n",
    "    bins = np.linspace(min_b, max_b, 25)\n",
    "\n",
    "    # plottling the histograms\n",
    "    for lab,col in zip(range(1,4), ('blue', 'red')):\n",
    "        ax.hist(X[y==lab, cnt],\n",
    "                   color=col,\n",
    "                   label='class %s' %label_dict[lab],\n",
    "                   bins=bins,\n",
    "                   alpha=0.5,)\n",
    "    ylims = ax.get_ylim()\n",
    "\n",
    "    # plot annotation\n",
    "    leg = ax.legend(loc='upper right', fancybox=True, fontsize=8)\n",
    "    leg.get_frame().set_alpha(0.5)\n",
    "    ax.set_ylim([0, max(ylims)+2])\n",
    "    ax.set_xlabel(feature_dict[cnt])\n",
    "    ax.set_title('Iris histogram #%s' %str(cnt+1))\n",
    "\n",
    "    # hide axis ticks\n",
    "    ax.tick_params(axis=\"both\", which=\"both\", bottom=\"off\", top=\"off\",  \n",
    "            labelbottom=\"on\", left=\"off\", right=\"off\", labelleft=\"on\")\n",
    "\n",
    "    # remove axis spines\n",
    "    ax.spines[\"top\"].set_visible(False)  \n",
    "    ax.spines[\"right\"].set_visible(False)\n",
    "    ax.spines[\"bottom\"].set_visible(False)\n",
    "    ax.spines[\"left\"].set_visible(False)    \n",
    "\n",
    "axes[0][0].set_ylabel('count')\n",
    "axes[1][0].set_ylabel('count')\n",
    "\n",
    "fig.tight_layout()       \n",
    "\n",
    "plt.show()\n"
   ]
  },
  {
   "cell_type": "code",
   "execution_count": 21,
   "id": "8579ee18",
   "metadata": {},
   "outputs": [
    {
     "name": "stdout",
     "output_type": "stream",
     "text": [
      "Mean Vector class 1: [0.641 0.374 0.494 0.226]\n",
      "\n",
      "Mean Vector class 2: [0.477 0.522 0.533 0.464]\n",
      "\n"
     ]
    }
   ],
   "source": [
    "np.set_printoptions(precision=3)\n",
    "\n",
    "mean_vectors = []\n",
    "for cl in range(1,3):\n",
    "    mean_vectors.append(np.mean(X[y==cl], axis=0))\n",
    "    print('Mean Vector class %s: %s\\n' %(cl, mean_vectors[cl-1]))"
   ]
  },
  {
   "cell_type": "code",
   "execution_count": 22,
   "id": "29eae03f",
   "metadata": {},
   "outputs": [
    {
     "data": {
      "text/plain": [
       "array([0.477, 0.522, 0.533, 0.464])"
      ]
     },
     "execution_count": 22,
     "metadata": {},
     "output_type": "execute_result"
    }
   ],
   "source": [
    "np.mean(X[y==2], axis=0)"
   ]
  },
  {
   "cell_type": "code",
   "execution_count": 23,
   "id": "c91c532e",
   "metadata": {},
   "outputs": [
    {
     "name": "stdout",
     "output_type": "stream",
     "text": [
      "within-class Scatter Matrix:\n",
      " [[ 8.198  0.156 -1.685 -0.719]\n",
      " [ 0.156  5.44   2.488  1.893]\n",
      " [-1.685  2.488  8.566  1.826]\n",
      " [-0.719  1.893  1.826  3.122]]\n"
     ]
    }
   ],
   "source": [
    "S_W = np.zeros((4,4))\n",
    "for cl,mv in zip(range(1,4), mean_vectors):\n",
    "    class_sc_mat = np.zeros((4,4))                  # scatter matrix for every class\n",
    "    for row in X[y == cl]:\n",
    "        row, mv = row.reshape(4,1), mv.reshape(4,1) # make column vectors\n",
    "        class_sc_mat += (row-mv).dot((row-mv).T)\n",
    "    S_W += class_sc_mat                             # sum class scatter matrices\n",
    "print('within-class Scatter Matrix:\\n', S_W)"
   ]
  },
  {
   "cell_type": "code",
   "execution_count": 24,
   "id": "5725b7a0",
   "metadata": {},
   "outputs": [
    {
     "name": "stdout",
     "output_type": "stream",
     "text": [
      "between-class Scatter Matrix:\n",
      " [[ 0.955 -0.859 -0.227 -1.378]\n",
      " [-0.859  0.772  0.204  1.239]\n",
      " [-0.227  0.204  0.054  0.327]\n",
      " [-1.378  1.239  0.327  1.989]]\n"
     ]
    }
   ],
   "source": [
    "overall_mean = np.mean(X, axis=0)\n",
    "\n",
    "S_B = np.zeros((4,4))\n",
    "for i,mean_vec in enumerate(mean_vectors):  \n",
    "    n = X[y==i+1,:].shape[0]\n",
    "    mean_vec = mean_vec.reshape(4,1) # make column vector\n",
    "    overall_mean = overall_mean.reshape(4,1) # make column vector\n",
    "    S_B += n * (mean_vec - overall_mean).dot((mean_vec - overall_mean).T)\n",
    "\n",
    "print('between-class Scatter Matrix:\\n', S_B)"
   ]
  },
  {
   "cell_type": "code",
   "execution_count": 25,
   "id": "aaa494fc",
   "metadata": {},
   "outputs": [
    {
     "name": "stdout",
     "output_type": "stream",
     "text": [
      "\n",
      "Eigenvector 1: \n",
      "[[-0.822]\n",
      " [-0.064]\n",
      " [ 0.128]\n",
      " [-0.551]]\n",
      "Eigenvalue 1: -1.11e-16\n",
      "\n",
      "Eigenvector 2: \n",
      "[[ 0.211]\n",
      " [-0.111]\n",
      " [ 0.219]\n",
      " [-0.946]]\n",
      "Eigenvalue 2: 7.68e-01\n",
      "\n",
      "Eigenvector 3: \n",
      "[[ 0.263]\n",
      " [-0.141]\n",
      " [ 0.948]\n",
      " [ 0.114]]\n",
      "Eigenvalue 3: 4.35e-18\n",
      "\n",
      "Eigenvector 4: \n",
      "[[ 0.289]\n",
      " [-0.714]\n",
      " [ 0.058]\n",
      " [ 0.635]]\n",
      "Eigenvalue 4: -3.90e-17\n"
     ]
    }
   ],
   "source": [
    "eig_vals, eig_vecs = np.linalg.eig(np.linalg.inv(S_W).dot(S_B))\n",
    "\n",
    "for i in range(len(eig_vals)):\n",
    "    eigvec_sc = eig_vecs[:,i].reshape(4,1)   \n",
    "    print('\\nEigenvector {}: \\n{}'.format(i+1, eigvec_sc.real))\n",
    "    print('Eigenvalue {:}: {:.2e}'.format(i+1, eig_vals[i].real))"
   ]
  },
  {
   "cell_type": "code",
   "execution_count": 26,
   "id": "81d7a6b3",
   "metadata": {},
   "outputs": [
    {
     "name": "stdout",
     "output_type": "stream",
     "text": [
      "ok\n"
     ]
    }
   ],
   "source": [
    "for i in range(len(eig_vals)):\n",
    "    eigv = eig_vecs[:,i].reshape(4,1)\n",
    "    np.testing.assert_array_almost_equal(np.linalg.inv(S_W).dot(S_B).dot(eigv),\n",
    "                                         eig_vals[i] * eigv,\n",
    "                                         decimal=6, err_msg='', verbose=True)\n",
    "print('ok')"
   ]
  },
  {
   "cell_type": "code",
   "execution_count": 27,
   "id": "3f6d35e3",
   "metadata": {},
   "outputs": [
    {
     "name": "stdout",
     "output_type": "stream",
     "text": [
      "Eigenvalues in decreasing order:\n",
      "\n",
      "0.7677719094794241\n",
      "1.1102230246251565e-16\n",
      "3.9031003209128436e-17\n",
      "4.353784769936629e-18\n"
     ]
    }
   ],
   "source": [
    "# Make a list of (eigenvalue, eigenvector) tuples\n",
    "eig_pairs = [(np.abs(eig_vals[i]), eig_vecs[:,i]) for i in range(len(eig_vals))]\n",
    "\n",
    "# Sort the (eigenvalue, eigenvector) tuples from high to low\n",
    "eig_pairs = sorted(eig_pairs, key=lambda k: k[0], reverse=True)\n",
    "\n",
    "# Visually confirm that the list is correctly sorted by decreasing eigenvalues\n",
    "\n",
    "print('Eigenvalues in decreasing order:\\n')\n",
    "for i in eig_pairs:\n",
    "    print(i[0])"
   ]
  },
  {
   "cell_type": "code",
   "execution_count": 28,
   "id": "ddae9575",
   "metadata": {},
   "outputs": [
    {
     "name": "stdout",
     "output_type": "stream",
     "text": [
      "Variance explained:\n",
      "\n",
      "eigenvalue 1: 100.00%\n",
      "eigenvalue 2: 0.00%\n",
      "eigenvalue 3: 0.00%\n",
      "eigenvalue 4: 0.00%\n"
     ]
    }
   ],
   "source": [
    "print('Variance explained:\\n')\n",
    "eigv_sum = sum(eig_vals)\n",
    "for i,j in enumerate(eig_pairs):\n",
    "    print('eigenvalue {0:}: {1:.2%}'.format(i+1, (j[0]/eigv_sum).real))"
   ]
  },
  {
   "cell_type": "code",
   "execution_count": 29,
   "id": "62a6f2ec",
   "metadata": {},
   "outputs": [
    {
     "name": "stdout",
     "output_type": "stream",
     "text": [
      "Matrix W:\n",
      " [[ 0.211 -0.822]\n",
      " [-0.111 -0.064]\n",
      " [ 0.219  0.128]\n",
      " [-0.946 -0.551]]\n"
     ]
    }
   ],
   "source": [
    "W = np.hstack((eig_pairs[0][1].reshape(4,1), eig_pairs[1][1].reshape(4,1)))\n",
    "print('Matrix W:\\n', W.real)"
   ]
  },
  {
   "cell_type": "code",
   "execution_count": 30,
   "id": "cbd78601",
   "metadata": {},
   "outputs": [],
   "source": [
    "X_lda = X.dot(W)\n",
    "assert X_lda.shape == (169,2), \"The matrix is not 169x2 dimensional.\""
   ]
  },
  {
   "cell_type": "code",
   "execution_count": 31,
   "id": "627c481e",
   "metadata": {},
   "outputs": [
    {
     "data": {
      "image/png": "[encoded data removed]",
      "text/plain": [
       "<Figure size 432x288 with 1 Axes>"
      ]
     },
     "metadata": {
      "needs_background": "light"
     },
     "output_type": "display_data"
    }
   ],
   "source": [
    "def plot_step_lda():\n",
    "\n",
    "    ax = plt.subplot(111)\n",
    "    for label,marker,color in zip(\n",
    "        range(1,3),('^', 's'),('blue', 'red')):\n",
    "\n",
    "        plt.scatter(x=X_lda[:,0].real[y == label],\n",
    "                y=X_lda[:,1].real[y == label],\n",
    "                marker=marker,\n",
    "                color=color,\n",
    "                alpha=0.5,\n",
    "                label=label_dict[label]\n",
    "                )\n",
    "\n",
    "    plt.xlabel('LD1')\n",
    "    plt.ylabel('LD2')\n",
    "\n",
    "    leg = plt.legend(loc='upper right', fancybox=True)\n",
    "    leg.get_frame().set_alpha(0.5)\n",
    "    plt.title('LDA: Iris projection onto the first 2 linear discriminants')\n",
    "\n",
    "    # hide axis ticks\n",
    "    plt.tick_params(axis=\"both\", which=\"both\", bottom=\"off\", top=\"off\",  \n",
    "            labelbottom=\"on\", left=\"off\", right=\"off\", labelleft=\"on\")\n",
    "\n",
    "    # remove axis spines\n",
    "    ax.spines[\"top\"].set_visible(False)  \n",
    "    ax.spines[\"right\"].set_visible(False)\n",
    "    ax.spines[\"bottom\"].set_visible(False)\n",
    "    ax.spines[\"left\"].set_visible(False)    \n",
    "\n",
    "    plt.grid()\n",
    "    plt.tight_layout\n",
    "    plt.show()\n",
    "\n",
    "plot_step_lda()"
   ]
  },
  {
   "cell_type": "code",
   "execution_count": 32,
   "id": "a1fe5f67",
   "metadata": {},
   "outputs": [],
   "source": [
    "from sklearn.discriminant_analysis import LinearDiscriminantAnalysis as LDA\n",
    "\n",
    "# LDA\n",
    "sklearn_lda = LDA(n_components=1)\n",
    "X_lda_sklearn = sklearn_lda.fit_transform(X, y)"
   ]
  },
  {
   "cell_type": "code",
   "execution_count": 33,
   "id": "c9d2f83d",
   "metadata": {},
   "outputs": [],
   "source": [
    "def plot_scikit_lda(X, title):\n",
    "\n",
    "    ax = plt.subplot(111)\n",
    "    for label,marker,color in zip(\n",
    "        range(1,4),('^', 's', 'o'),('blue', 'red', 'green')):\n",
    "\n",
    "        plt.scatter(x=X[:,0][y == label] * -1,\n",
    "                    y=X[:,1][y == label] * -1, # flip the figure\n",
    "                    marker=marker,\n",
    "                    color=color,\n",
    "                    alpha=0.5,\n",
    "                    label=label_dict[label])\n",
    "\n",
    "    plt.xlabel('LD1')\n",
    "    plt.ylabel('LD2')\n",
    "\n",
    "    leg = plt.legend(loc='upper right', fancybox=True)\n",
    "    leg.get_frame().set_alpha(0.5)\n",
    "    plt.title(title)\n",
    "\n",
    "    # hide axis ticks\n",
    "    plt.tick_params(axis=\"both\", which=\"both\", bottom=\"off\", top=\"off\",  \n",
    "            labelbottom=\"on\", left=\"off\", right=\"off\", labelleft=\"on\")\n",
    "\n",
    "    # remove axis spines\n",
    "    ax.spines[\"top\"].set_visible(False)  \n",
    "    ax.spines[\"right\"].set_visible(False)\n",
    "    ax.spines[\"bottom\"].set_visible(False)\n",
    "    ax.spines[\"left\"].set_visible(False)    \n",
    "\n",
    "    plt.grid()\n",
    "    plt.tight_layout\n",
    "    plt.show()"
   ]
  },
  {
   "cell_type": "code",
   "execution_count": 34,
   "id": "076106e5",
   "metadata": {},
   "outputs": [
    {
     "ename": "IndexError",
     "evalue": "index 1 is out of bounds for axis 1 with size 1",
     "output_type": "error",
     "traceback": [
      "\u001b[1;31m---------------------------------------------------------------------------\u001b[0m",
      "\u001b[1;31mIndexError\u001b[0m                                Traceback (most recent call last)",
      "\u001b[1;32m<ipython-input-34-38ceb9997c73>\u001b[0m in \u001b[0;36m<module>\u001b[1;34m\u001b[0m\n\u001b[1;32m----> 1\u001b[1;33m \u001b[0mplot_scikit_lda\u001b[0m\u001b[1;33m(\u001b[0m\u001b[0mX_lda_sklearn\u001b[0m\u001b[1;33m,\u001b[0m \u001b[0mtitle\u001b[0m\u001b[1;33m=\u001b[0m\u001b[1;34m'Default LDA via scikit-learn'\u001b[0m\u001b[1;33m)\u001b[0m\u001b[1;33m\u001b[0m\u001b[1;33m\u001b[0m\u001b[0m\n\u001b[0m",
      "\u001b[1;32m<ipython-input-33-d4b90e8c2685>\u001b[0m in \u001b[0;36mplot_scikit_lda\u001b[1;34m(X, title)\u001b[0m\n\u001b[0;32m      6\u001b[0m \u001b[1;33m\u001b[0m\u001b[0m\n\u001b[0;32m      7\u001b[0m         plt.scatter(x=X[:,0][y == label] * -1,\n\u001b[1;32m----> 8\u001b[1;33m                     \u001b[0my\u001b[0m\u001b[1;33m=\u001b[0m\u001b[0mX\u001b[0m\u001b[1;33m[\u001b[0m\u001b[1;33m:\u001b[0m\u001b[1;33m,\u001b[0m\u001b[1;36m1\u001b[0m\u001b[1;33m]\u001b[0m\u001b[1;33m[\u001b[0m\u001b[0my\u001b[0m \u001b[1;33m==\u001b[0m \u001b[0mlabel\u001b[0m\u001b[1;33m]\u001b[0m \u001b[1;33m*\u001b[0m \u001b[1;33m-\u001b[0m\u001b[1;36m1\u001b[0m\u001b[1;33m,\u001b[0m \u001b[1;31m# flip the figure\u001b[0m\u001b[1;33m\u001b[0m\u001b[1;33m\u001b[0m\u001b[0m\n\u001b[0m\u001b[0;32m      9\u001b[0m                     \u001b[0mmarker\u001b[0m\u001b[1;33m=\u001b[0m\u001b[0mmarker\u001b[0m\u001b[1;33m,\u001b[0m\u001b[1;33m\u001b[0m\u001b[1;33m\u001b[0m\u001b[0m\n\u001b[0;32m     10\u001b[0m                     \u001b[0mcolor\u001b[0m\u001b[1;33m=\u001b[0m\u001b[0mcolor\u001b[0m\u001b[1;33m,\u001b[0m\u001b[1;33m\u001b[0m\u001b[1;33m\u001b[0m\u001b[0m\n",
      "\u001b[1;31mIndexError\u001b[0m: index 1 is out of bounds for axis 1 with size 1"
     ]
    },
    {
     "data": {
      "image/png": "[encoded data removed]",
      "text/plain": [
       "<Figure size 432x288 with 1 Axes>"
      ]
     },
     "metadata": {
      "needs_background": "light"
     },
     "output_type": "display_data"
    }
   ],
   "source": [
    "plot_scikit_lda(X_lda_sklearn, title='Default LDA via scikit-learn')"
   ]
  },
  {
   "cell_type": "code",
   "execution_count": null,
   "id": "a21988a5",
   "metadata": {},
   "outputs": [],
   "source": []
  },
  {
   "cell_type": "code",
   "execution_count": null,
   "id": "4d399bfd",
   "metadata": {},
   "outputs": [],
   "source": []
  },
  {
   "cell_type": "code",
   "execution_count": null,
   "id": "bdb2b667",
   "metadata": {},
   "outputs": [],
   "source": []
  }
 ],
 "metadata": {
  "kernelspec": {
   "display_name": "Python 3",
   "language": "python",
   "name": "python3"
  },
  "language_info": {
   "codemirror_mode": {
    "name": "ipython",
    "version": 3
   },
   "file_extension": ".py",
   "mimetype": "text/x-python",
   "name": "python",
   "nbconvert_exporter": "python",
   "pygments_lexer": "ipython3",
   "version": "3.8.8"
  }
 },
 "nbformat": 4,
 "nbformat_minor": 5
}
