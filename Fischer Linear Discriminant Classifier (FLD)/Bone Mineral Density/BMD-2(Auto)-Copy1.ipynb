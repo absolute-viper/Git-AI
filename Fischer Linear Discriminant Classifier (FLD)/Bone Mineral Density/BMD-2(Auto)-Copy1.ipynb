{
 "cells": [
  {
   "cell_type": "code",
   "execution_count": 102,
   "id": "2e2a9e90",
   "metadata": {},
   "outputs": [],
   "source": [
    "#########################\n",
    "# CODE WITH SKLEARN LIBRARY IMPLEMENTATION OF FLD(Code Inbuilt)\n",
    "# Classification Type : Fischer Linear Discriminant Analysis (FLD)\n",
    "# DATASET :\"Bone Mineral Density(bmd.csv)\"\n",
    "#########################"
   ]
  },
  {
   "cell_type": "code",
   "execution_count": 103,
   "id": "c914e24e",
   "metadata": {},
   "outputs": [],
   "source": [
    "#########################\n",
    "# Importing Basic Libraries\n",
    "#########################\n",
    "import pandas as pd\n",
    "import numpy as np\n",
    "from sklearn.preprocessing import LabelEncoder\n",
    "import math\n",
    "from matplotlib import pyplot as plt"
   ]
  },
  {
   "cell_type": "code",
   "execution_count": 104,
   "id": "985ef14d",
   "metadata": {},
   "outputs": [
    {
     "data": {
      "text/html": [
       "<div>\n",
       "<style scoped>\n",
       "    .dataframe tbody tr th:only-of-type {\n",
       "        vertical-align: middle;\n",
       "    }\n",
       "\n",
       "    .dataframe tbody tr th {\n",
       "        vertical-align: top;\n",
       "    }\n",
       "\n",
       "    .dataframe thead th {\n",
       "        text-align: right;\n",
       "    }\n",
       "</style>\n",
       "<table border=\"1\" class=\"dataframe\">\n",
       "  <thead>\n",
       "    <tr style=\"text-align: right;\">\n",
       "      <th></th>\n",
       "      <th>id</th>\n",
       "      <th>age</th>\n",
       "      <th>sex</th>\n",
       "      <th>fracture</th>\n",
       "      <th>weight_kg</th>\n",
       "      <th>height_cm</th>\n",
       "      <th>medication</th>\n",
       "      <th>waiting_time</th>\n",
       "      <th>bmd</th>\n",
       "    </tr>\n",
       "  </thead>\n",
       "  <tbody>\n",
       "    <tr>\n",
       "      <th>0</th>\n",
       "      <td>469</td>\n",
       "      <td>57.052768</td>\n",
       "      <td>F</td>\n",
       "      <td>no fracture</td>\n",
       "      <td>64.0</td>\n",
       "      <td>155.5</td>\n",
       "      <td>Anticonvulsant</td>\n",
       "      <td>18</td>\n",
       "      <td>0.8793</td>\n",
       "    </tr>\n",
       "    <tr>\n",
       "      <th>1</th>\n",
       "      <td>8724</td>\n",
       "      <td>75.741225</td>\n",
       "      <td>F</td>\n",
       "      <td>no fracture</td>\n",
       "      <td>78.0</td>\n",
       "      <td>162.0</td>\n",
       "      <td>No medication</td>\n",
       "      <td>56</td>\n",
       "      <td>0.7946</td>\n",
       "    </tr>\n",
       "    <tr>\n",
       "      <th>2</th>\n",
       "      <td>6736</td>\n",
       "      <td>70.778900</td>\n",
       "      <td>M</td>\n",
       "      <td>no fracture</td>\n",
       "      <td>73.0</td>\n",
       "      <td>170.5</td>\n",
       "      <td>No medication</td>\n",
       "      <td>10</td>\n",
       "      <td>0.9067</td>\n",
       "    </tr>\n",
       "    <tr>\n",
       "      <th>3</th>\n",
       "      <td>24180</td>\n",
       "      <td>78.247175</td>\n",
       "      <td>F</td>\n",
       "      <td>no fracture</td>\n",
       "      <td>60.0</td>\n",
       "      <td>148.0</td>\n",
       "      <td>No medication</td>\n",
       "      <td>14</td>\n",
       "      <td>0.7112</td>\n",
       "    </tr>\n",
       "    <tr>\n",
       "      <th>4</th>\n",
       "      <td>17072</td>\n",
       "      <td>54.191877</td>\n",
       "      <td>M</td>\n",
       "      <td>no fracture</td>\n",
       "      <td>55.0</td>\n",
       "      <td>161.0</td>\n",
       "      <td>No medication</td>\n",
       "      <td>20</td>\n",
       "      <td>0.7909</td>\n",
       "    </tr>\n",
       "  </tbody>\n",
       "</table>\n",
       "</div>"
      ],
      "text/plain": [
       "      id        age sex     fracture  weight_kg  height_cm      medication  \\\n",
       "0    469  57.052768   F  no fracture       64.0      155.5  Anticonvulsant   \n",
       "1   8724  75.741225   F  no fracture       78.0      162.0   No medication   \n",
       "2   6736  70.778900   M  no fracture       73.0      170.5   No medication   \n",
       "3  24180  78.247175   F  no fracture       60.0      148.0   No medication   \n",
       "4  17072  54.191877   M  no fracture       55.0      161.0   No medication   \n",
       "\n",
       "   waiting_time     bmd  \n",
       "0            18  0.8793  \n",
       "1            56  0.7946  \n",
       "2            10  0.9067  \n",
       "3            14  0.7112  \n",
       "4            20  0.7909  "
      ]
     },
     "execution_count": 104,
     "metadata": {},
     "output_type": "execute_result"
    }
   ],
   "source": [
    "#########################\n",
    "# Loading dataset\n",
    "#########################\n",
    "df = pd.read_csv(\"E:/Codes/Jupyter/Datasets/bmd.csv\")\n",
    "df.head(5)"
   ]
  },
  {
   "cell_type": "code",
   "execution_count": 105,
   "id": "3d126e95",
   "metadata": {},
   "outputs": [
    {
     "name": "stdout",
     "output_type": "stream",
     "text": [
      "Number of unique values in dataset:  2\n"
     ]
    }
   ],
   "source": [
    "#########################\n",
    "# Allocating data Columns to variables\n",
    "#########################\n",
    "X = df.iloc[:,[1,4,5,7,8]]\n",
    "y = df['fracture']\n",
    "\n",
    "#########################\n",
    "# finding unique values in the Dataset\n",
    "#########################\n",
    "total_classes = y.nunique()\n",
    "print(\"Number of unique values in dataset: \",total_classes)"
   ]
  },
  {
   "cell_type": "code",
   "execution_count": 106,
   "id": "6cd47509",
   "metadata": {
    "scrolled": true
   },
   "outputs": [],
   "source": [
    "#########################\n",
    "# Using the Inbuild SkLearn Preprocessing Directory\n",
    "# for performing Linear Discriminant Analysis\n",
    "#########################\n",
    "from sklearn.discriminant_analysis import LinearDiscriminantAnalysis as lda"
   ]
  },
  {
   "cell_type": "code",
   "execution_count": 107,
   "id": "0a2c541e",
   "metadata": {},
   "outputs": [],
   "source": [
    "#########################\n",
    "# Splitting dataset for training/validation purposes. \n",
    "# Taking 20% as validation set of the total dataset\n",
    "# for performing Linear Discriminant Analysis\n",
    "#########################\n",
    "from sklearn.model_selection import train_test_split\n",
    "\n",
    "X_train, X_test, y_train, y_test = train_test_split(X, y, test_size=0.2, random_state=0)"
   ]
  },
  {
   "cell_type": "code",
   "execution_count": 108,
   "id": "b114ece5",
   "metadata": {},
   "outputs": [],
   "source": [
    "#########################\n",
    "# Using inbuilt preprocessing directories to form vector matrices\n",
    "#########################\n",
    "from sklearn.preprocessing import StandardScaler\n",
    "\n",
    "sc = StandardScaler()\n",
    "X_train = sc.fit_transform(X_train)\n",
    "X_test = sc.transform(X_test)"
   ]
  },
  {
   "cell_type": "code",
   "execution_count": 109,
   "id": "743313dc",
   "metadata": {},
   "outputs": [],
   "source": [
    "#########################\n",
    "# Using LDA Libraries to transform the test data\n",
    "#########################\n",
    "from sklearn.discriminant_analysis import LinearDiscriminantAnalysis as LDA\n",
    "\n",
    "lda = LDA(n_components=1)\n",
    "X_train = lda.fit_transform(X_train, y_train)\n",
    "X_test = lda.transform(X_test)"
   ]
  },
  {
   "cell_type": "code",
   "execution_count": 110,
   "id": "f1ea5924",
   "metadata": {},
   "outputs": [],
   "source": [
    "#########################\n",
    "# Using Random Forest Classifier to perform prediction on the data\n",
    "#########################\n",
    "from sklearn.ensemble import RandomForestClassifier\n",
    "\n",
    "classifier = RandomForestClassifier(max_depth=2, random_state=0)\n",
    "\n",
    "classifier.fit(X_train, y_train)\n",
    "y_pred = classifier.predict(X_test)"
   ]
  },
  {
   "cell_type": "code",
   "execution_count": 111,
   "id": "4dab1004",
   "metadata": {},
   "outputs": [
    {
     "name": "stdout",
     "output_type": "stream",
     "text": [
      "[[ 8  3]\n",
      " [ 5 18]]\n",
      "Accuracy0.7647058823529411\n"
     ]
    }
   ],
   "source": [
    "#########################\n",
    "# Confusion Matrix & Accuracy of the model\n",
    "#########################\n",
    "from sklearn.metrics import confusion_matrix\n",
    "from sklearn.metrics import accuracy_score\n",
    "\n",
    "cm = confusion_matrix(y_test, y_pred)\n",
    "print(cm)\n",
    "print('Accuracy' + str(accuracy_score(y_test, y_pred)))"
   ]
  },
  {
   "cell_type": "code",
   "execution_count": null,
   "id": "73778e41",
   "metadata": {},
   "outputs": [],
   "source": []
  }
 ],
 "metadata": {
  "kernelspec": {
   "display_name": "Python 3",
   "language": "python",
   "name": "python3"
  },
  "language_info": {
   "codemirror_mode": {
    "name": "ipython",
    "version": 3
   },
   "file_extension": ".py",
   "mimetype": "text/x-python",
   "name": "python",
   "nbconvert_exporter": "python",
   "pygments_lexer": "ipython3",
   "version": "3.8.8"
  }
 },
 "nbformat": 4,
 "nbformat_minor": 5
}
